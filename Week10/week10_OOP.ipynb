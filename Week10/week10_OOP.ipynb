{
 "cells": [
  {
   "cell_type": "markdown",
   "metadata": {
    "id": "S66vpWEWqo_I"
   },
   "source": [
    "# Agenda"
   ]
  },
  {
   "cell_type": "markdown",
   "metadata": {
    "id": "Ei4L7wJBqyT2"
   },
   "source": [
    "- Part-I\n",
    "\n",
    "  - Programming Paradigms.\n",
    "\n",
    "  - What is OOP?\n",
    "\n",
    "  - Why do we need OOP?\n",
    "\n",
    "  - Terminology and examples\n",
    "\n",
    "    - Class, instance, objects, attributes, methods"
   ]
  },
  {
   "cell_type": "markdown",
   "metadata": {
    "id": "t7QbZvowq00f"
   },
   "source": [
    "- Part - II\n",
    "\n",
    " - Classes and Instances\n",
    "\n",
    " - Class Variables\n",
    "\n",
    " - Inheritance\n",
    "\n"
   ]
  },
  {
   "cell_type": "markdown",
   "metadata": {
    "id": "FacrU83ErYrq"
   },
   "source": [
    "- Part - III\n",
    "\n",
    "  - Creating objects\n",
    "\n",
    "  - Creating class variables\n",
    "\n",
    "  - Inheritance"
   ]
  },
  {
   "cell_type": "markdown",
   "metadata": {
    "id": "FM3GYNj3qlgA"
   },
   "source": [
    "# Part-I"
   ]
  },
  {
   "cell_type": "markdown",
   "metadata": {
    "id": "OShq3CZkr9Az"
   },
   "source": [
    "## Programming Paradigms\n",
    "\n",
    "- Programming Paradigm: The style of coding.\n",
    "\n",
    "- There are lots of different styles (paradigms) of coding.\n",
    "\n",
    "- [Programming Paradigms](https://www.youtube.com/watch?v=Wt4FPjkCNaU&ab_channel=Craig%27n%27Dave)\n",
    "\n",
    "- [Let's see the difference between Imperative and Declarative programming](https://www.youtube.com/watch?v=yOBBkIJBEL8)"
   ]
  },
  {
   "cell_type": "markdown",
   "metadata": {
    "id": "55DwM3x074g5"
   },
   "source": [
    "## OOP: Object Oriented Programming"
   ]
  },
  {
   "cell_type": "markdown",
   "metadata": {
    "id": "1b-q-WpzxmP2"
   },
   "source": [
    "__What is OOP__?\n",
    "\n",
    "\n",
    "Object-oriented programming (OOP) is a programming paradigm based on the concept of \"objects\", which can contain data and code: data in the form of fields (often known as attributes or properties), and code, in the form of procedures (often known as methods). (From Wikipedia)\n",
    "\n"
   ]
  },
  {
   "cell_type": "markdown",
   "metadata": {
    "id": "V3HpJxRR8hzH"
   },
   "source": [
    "__Why OOP?__\n",
    "\n",
    "- Each object is on its own a program\n",
    "\n",
    "- Creates boundries\n",
    "\n",
    "- Ready to use and don't need to understand what is going on inside of an object.\n",
    "\n",
    "- Organizes the code into logical pieces."
   ]
  },
  {
   "cell_type": "markdown",
   "metadata": {
    "id": "0Op-qqoi7-co"
   },
   "source": [
    "__Classes and Instances (Objects)__\n",
    "\n",
    "- Classes are like notions and templates\n",
    "\n",
    "- Objects (instances) are the actualization of these notions and ideas."
   ]
  },
  {
   "cell_type": "markdown",
   "metadata": {
    "id": "_2pLdU9ix6Lb"
   },
   "source": [
    "Examples:\n",
    "\n",
    "Class ---> Chair\n",
    "\n",
    "Object ---> A particular chair\n",
    "\n",
    "[Different Chairs](https://www.google.com/search?q=chair+images&oq=chair+images&aqs=chrome..69i57j0l9.1845j1j7&sourceid=chrome&ie=UTF-8)\n"
   ]
  },
  {
   "cell_type": "markdown",
   "metadata": {
    "id": "Mvn9UVw8yU4B"
   },
   "source": [
    "Class ---> Tree\n",
    "\n",
    "Object (Instance of a Tree class) ---> A pine tree\n",
    "\n",
    "[Tree Images](https://www.google.com/search?q=tree+images&sxsrf=ALeKk03oAU2blx0v91nLrOwMrFq81l1ZEw:1618343497847&source=lnms&tbm=isch&sa=X&ved=2ahUKEwjH4cCq__vvAhUpKFkFHa7hAzEQ_AUoAXoECAEQAw&biw=1920&bih=864)"
   ]
  },
  {
   "cell_type": "markdown",
   "metadata": {
    "id": "PAWUu51R8BCM"
   },
   "source": [
    "__Methods and Attributes__\n",
    "\n",
    "- Functions and Data"
   ]
  },
  {
   "cell_type": "markdown",
   "metadata": {
    "id": "tR_i4gCpyuQp"
   },
   "source": [
    "Example:\n",
    "\n",
    "Consider the example: Class = Chair:\n",
    "\n",
    "Possible Attributes of a general chair:\n",
    "\n",
    "- Height\n",
    "\n",
    "- Length\n",
    "\n",
    "- Width\n",
    "\n",
    "- number of legs\n",
    "\n",
    "- color\n",
    "\n",
    "- with resting hands or not.\n",
    "\n"
   ]
  },
  {
   "cell_type": "markdown",
   "metadata": {
    "id": "XAidl9pUyoyw"
   },
   "source": [
    "Possible functions of a chair:\n",
    "\n",
    "- Adjust height\n",
    "\n",
    "- Lean backward\n",
    "\n",
    "- Tilt backward\n",
    "\n",
    "- Rock\n",
    "\n",
    "- fold/unfold"
   ]
  },
  {
   "cell_type": "markdown",
   "metadata": {
    "id": "2HlBy-4HzpTZ"
   },
   "source": [
    "Consider the example: Class = Tree\n",
    "\n",
    "Possible attributes of a tree:\n",
    "- kind\n",
    "- height\n",
    "- width\n",
    "- age\n",
    "- indoor/ourdoor\n",
    "- fruit/no fruit\n",
    "\n",
    "Possible functions (actions) a general tree can execute:\n",
    "\n",
    "- grow height\n",
    "- drop leaves\n",
    "- tilt towards sun\n",
    "- grow seeds"
   ]
  },
  {
   "cell_type": "markdown",
   "metadata": {
    "id": "lgTyhZBM7pdw"
   },
   "source": [
    "# Part - II"
   ]
  },
  {
   "cell_type": "markdown",
   "metadata": {
    "id": "19tlluGH7tsu"
   },
   "source": [
    "## Syntax and Construction"
   ]
  },
  {
   "cell_type": "code",
   "execution_count": null,
   "metadata": {
    "id": "aW_64GBn71yG"
   },
   "outputs": [],
   "source": [
    "## Let's see the syntax for creating a class \n",
    "## Syntax\n",
    "class Student:\n",
    "    pass"
   ]
  },
  {
   "cell_type": "code",
   "execution_count": null,
   "metadata": {
    "id": "GcmpR0id-CQa"
   },
   "outputs": [],
   "source": [
    "## Create 2 Student Objects\n",
    "\n",
    "student1 = Student()\n",
    "student2 = Student()\n"
   ]
  },
  {
   "cell_type": "code",
   "execution_count": null,
   "metadata": {
    "colab": {
     "base_uri": "https://localhost:8080/"
    },
    "id": "yhGeMGjz-ROi",
    "outputId": "8ecb9394-77e5-4c14-86e6-701783ab8dd2"
   },
   "outputs": [],
   "source": [
    "## Show that they are stored in different places\n",
    "print(student1)\n",
    "print(student2)"
   ]
  },
  {
   "cell_type": "code",
   "execution_count": null,
   "metadata": {
    "id": "lNm4ygia-WiF"
   },
   "outputs": [],
   "source": [
    "## Each Student will have a name\n",
    "## We can assign like this\n",
    "student1.name = 'Joseph'\n",
    "student2.name = 'Emily'"
   ]
  },
  {
   "cell_type": "code",
   "execution_count": null,
   "metadata": {
    "colab": {
     "base_uri": "https://localhost:8080/"
    },
    "id": "Dv1PS_q1-oZX",
    "outputId": "eb2603cd-357f-4da5-a170-f6a1b51a9b4f"
   },
   "outputs": [],
   "source": [
    "## let's see the student names are assigned\n",
    "print(student1.name)\n",
    "print(student2.name)"
   ]
  },
  {
   "cell_type": "code",
   "execution_count": null,
   "metadata": {},
   "outputs": [],
   "source": [
    "dir(student1)"
   ]
  },
  {
   "cell_type": "code",
   "execution_count": null,
   "metadata": {
    "id": "gTWg4z1JMBu6"
   },
   "outputs": [],
   "source": [
    "class Student:\n",
    "    pass\n",
    "\n",
    "student3 = Student()\n",
    "# but this is error prone. We can make mistakes easily...\n",
    "student3.nane = 'Mike'"
   ]
  },
  {
   "cell_type": "code",
   "execution_count": null,
   "metadata": {
    "id": "la_DRcBQMTUu"
   },
   "outputs": [],
   "source": [
    "## let's add student id,\n",
    "## campus, first semester and program to our construction.\n",
    "\n",
    "\n",
    "class Student:\n",
    "  ## We use a constructor method to create a student\n",
    "  def __init__(self, name, id):\n",
    "    self.name = name\n",
    "    self.id = id"
   ]
  },
  {
   "cell_type": "code",
   "execution_count": null,
   "metadata": {},
   "outputs": [],
   "source": [
    "# Student()"
   ]
  },
  {
   "cell_type": "code",
   "execution_count": null,
   "metadata": {
    "id": "OTt8yzE4MzEn"
   },
   "outputs": [],
   "source": [
    "## let's define student1 and student2 again.\n",
    "student1 = Student(name = 'Adam', id = 20210413547)\n",
    "\n",
    "student2 = Student('John', 20210413550)\n",
    "\n",
    "student3 = Student('Mike', 20210413551)"
   ]
  },
  {
   "cell_type": "code",
   "execution_count": null,
   "metadata": {
    "id": "AKlMadfpJ7CA"
   },
   "outputs": [],
   "source": [
    "class Student:\n",
    "  ## We use a constructor method to create a student\n",
    "  def __init__(self, first, last, id, campus, program, enroll_semester):\n",
    "    self.first = first\n",
    "    self.last = last\n",
    "    self.id = id\n",
    "    self.campus = campus\n",
    "    self.program = program\n",
    "    self.enroll_semester = enroll_semester\n"
   ]
  },
  {
   "cell_type": "code",
   "execution_count": null,
   "metadata": {
    "id": "3NIvd4hmKnjw"
   },
   "outputs": [],
   "source": [
    "## Create new students\n",
    "student1 = Student(first = 'John',\n",
    "                   last = 'Smith',\n",
    "                   id = 20210413557, \n",
    "                   campus = 'Shady Grove', \n",
    "                   program = 'Masters', \n",
    "                   enroll_semester = 'Fall 2020' )"
   ]
  },
  {
   "cell_type": "code",
   "execution_count": null,
   "metadata": {
    "id": "dQltgPRnPeWX"
   },
   "outputs": [],
   "source": [
    "student2 = Student('Albert',\n",
    "                   'Wayne',\n",
    "                   20210413600,\n",
    "                   'Main',\n",
    "                   'Certificate',\n",
    "                   'Spring 2019')"
   ]
  },
  {
   "cell_type": "code",
   "execution_count": null,
   "metadata": {},
   "outputs": [],
   "source": [
    "student2.campus"
   ]
  },
  {
   "cell_type": "code",
   "execution_count": null,
   "metadata": {
    "id": "dj7xjjR5P2Q6"
   },
   "outputs": [],
   "source": [
    "student2.campus = 'Shady Grove'\n",
    "student2.campus"
   ]
  },
  {
   "cell_type": "code",
   "execution_count": null,
   "metadata": {
    "colab": {
     "base_uri": "https://localhost:8080/",
     "height": 35
    },
    "id": "tEmQc227P_Vt",
    "outputId": "e05732bb-72a7-4f60-f402-d0abfa7f51d8"
   },
   "outputs": [],
   "source": []
  },
  {
   "cell_type": "markdown",
   "metadata": {
    "id": "gOnerh3AJggG"
   },
   "source": [
    "## Methods and Attributes"
   ]
  },
  {
   "cell_type": "code",
   "execution_count": null,
   "metadata": {
    "colab": {
     "base_uri": "https://localhost:8080/"
    },
    "id": "fLp8wvmQJ365",
    "outputId": "22e1cb84-378c-4914-86d5-76f274efa4e8"
   },
   "outputs": [],
   "source": [
    "## Show some attributes (data) of the students\n",
    "print(student1.enroll_semester)\n",
    "print(student1.first)\n",
    "print(student2.first)"
   ]
  },
  {
   "cell_type": "code",
   "execution_count": null,
   "metadata": {
    "id": "uQIVmEq2IPTv"
   },
   "outputs": [],
   "source": [
    "## let's create a function (method) that calculates the \n",
    "## total number of credits based on whether a student is a Masters/Certificate student\n",
    "class Student:\n",
    "  ## We use a constructor method to create a student\n",
    "  def __init__(self, first, last, id, campus, program, enroll_semester):\n",
    "    self.first = first\n",
    "    self.last = last\n",
    "    self.id = id\n",
    "    self.campus = campus\n",
    "    self.program = program\n",
    "    self.enroll_semester = enroll_semester\n",
    "\n",
    "## Create total_credits method here\n",
    "  def total_credits(self):\n",
    "    if self.program == 'Masters':\n",
    "        return 30\n",
    "    elif self.program =='Certificate':\n",
    "        return  12\n",
    "    \n"
   ]
  },
  {
   "cell_type": "code",
   "execution_count": null,
   "metadata": {
    "colab": {
     "base_uri": "https://localhost:8080/"
    },
    "id": "XeQ8g9dtIbUo",
    "outputId": "1cea8ea7-1ca0-4a73-95b0-eb0588f715f1"
   },
   "outputs": [],
   "source": [
    "## Now let's create a student again\n",
    "\n",
    "student1 = Student('John', \n",
    "                   'Smith', \n",
    "                   '20030001',\n",
    "                   'Shady Grove',\n",
    "                   'Certificate', \n",
    "                   'Fall 2020')\n",
    "\n",
    "## call the total_credits method\n",
    "student1.total_credits()"
   ]
  },
  {
   "cell_type": "code",
   "execution_count": null,
   "metadata": {},
   "outputs": [],
   "source": [
    "student2 = Student('Emily', \n",
    "                   'Smith', \n",
    "                   '20030001',\n",
    "                   'Shady Grove',\n",
    "                   'Masters', \n",
    "                   'Fall 2020')\n",
    "student2.total_credits()"
   ]
  },
  {
   "cell_type": "markdown",
   "metadata": {
    "id": "FO3r7JL4Ijqr"
   },
   "source": [
    "## Class Variables"
   ]
  },
  {
   "cell_type": "code",
   "execution_count": null,
   "metadata": {
    "id": "fk26qK2jN-wZ"
   },
   "outputs": [],
   "source": [
    "class Student:\n",
    "    ## class variable\n",
    "    tuition = 1000\n",
    "    technology_fee = 100\n",
    "    \n",
    "    ## We use a constructor method to create a student\n",
    "    def __init__(self, first, last, id, campus, program, enroll_semester):\n",
    "        self.first = first\n",
    "        self.last = last\n",
    "        self.id = id\n",
    "        self.campus = campus\n",
    "        self.program = program\n",
    "        self.enroll_semester = enroll_semester\n",
    "\n",
    "    ## Create total_credits method here\n",
    "    def total_credits(self):\n",
    "        if self.program == 'Masters':\n",
    "            return 30\n",
    "        elif self.program =='Certificate':\n",
    "            return  12\n",
    "\n",
    "    def total_tuition(self):\n",
    "        return self.tuition * self.total_credits() + self.technology_fee\n"
   ]
  },
  {
   "cell_type": "code",
   "execution_count": null,
   "metadata": {
    "colab": {
     "base_uri": "https://localhost:8080/"
    },
    "id": "zbwOi-63OUen",
    "outputId": "c09fd0f3-fc2e-4e45-adbf-154fa75a404e"
   },
   "outputs": [],
   "source": [
    "student1 = Student('Emily', 'Johnson', '20030001', 'Shady Grove','Certificate', 'Fall 2020')\n",
    "\n",
    "student2 = Student('John', 'Wayne', '20210413605', 'Main', 'Masters', 'Spring 2019')\n"
   ]
  },
  {
   "cell_type": "code",
   "execution_count": null,
   "metadata": {
    "colab": {
     "base_uri": "https://localhost:8080/"
    },
    "id": "AD-8gj1pUbvT",
    "outputId": "75e70864-44ca-4706-ff8b-65bd6cb75c56"
   },
   "outputs": [],
   "source": [
    "print(student1.total_tuition())\n",
    "print(student2.total_tuition())"
   ]
  },
  {
   "cell_type": "code",
   "execution_count": null,
   "metadata": {
    "colab": {
     "base_uri": "https://localhost:8080/"
    },
    "id": "H3Xoat0VT1eg",
    "outputId": "c9dc0450-1b01-4735-f78e-c3ef30137d8e"
   },
   "outputs": [],
   "source": [
    "student1.tuition = 500\n",
    "print(student1.total_tuition())\n",
    "print(student2.total_tuition())"
   ]
  },
  {
   "cell_type": "code",
   "execution_count": null,
   "metadata": {
    "colab": {
     "base_uri": "https://localhost:8080/"
    },
    "id": "1C4ZJ97VVde7",
    "outputId": "8b45fabc-ec12-4307-be5e-8806d72f8a45"
   },
   "outputs": [],
   "source": [
    "student1.tuition"
   ]
  },
  {
   "cell_type": "code",
   "execution_count": null,
   "metadata": {
    "colab": {
     "base_uri": "https://localhost:8080/"
    },
    "id": "5wtSlIamVx_w",
    "outputId": "3206dd63-5415-407c-c5c0-d7528608d865"
   },
   "outputs": [],
   "source": [
    "student2.tuition"
   ]
  },
  {
   "cell_type": "code",
   "execution_count": null,
   "metadata": {
    "id": "nCmivDikV3cP"
   },
   "outputs": [],
   "source": [
    "student3 = Student('Mike', 'Oliver', '20210413630', 'Main', 'Certificate', 'Fall 2018')"
   ]
  },
  {
   "cell_type": "code",
   "execution_count": null,
   "metadata": {
    "colab": {
     "base_uri": "https://localhost:8080/"
    },
    "id": "WccUl16GWJvc",
    "outputId": "840ada66-3cae-4c03-e76c-fbf8573e9c4c"
   },
   "outputs": [],
   "source": [
    "student3.tuition"
   ]
  },
  {
   "cell_type": "code",
   "execution_count": null,
   "metadata": {
    "colab": {
     "base_uri": "https://localhost:8080/"
    },
    "id": "eDY0fmncQcw3",
    "outputId": "cc207a38-f7ec-4ae4-8984-9c74ef87592a"
   },
   "outputs": [],
   "source": [
    "## dir returns attributes and methods related to an object\n",
    "dir(student2)"
   ]
  },
  {
   "cell_type": "code",
   "execution_count": null,
   "metadata": {
    "colab": {
     "base_uri": "https://localhost:8080/"
    },
    "id": "KngBm2oyQhZq",
    "outputId": "f2e970c7-a158-495e-9c22-e9e38d9fafc1"
   },
   "outputs": [],
   "source": [
    "# dir(student1)"
   ]
  },
  {
   "cell_type": "markdown",
   "metadata": {},
   "source": [
    "# Dunder/Magic methods\n"
   ]
  },
  {
   "cell_type": "code",
   "execution_count": null,
   "metadata": {},
   "outputs": [],
   "source": [
    "student1"
   ]
  },
  {
   "cell_type": "code",
   "execution_count": null,
   "metadata": {},
   "outputs": [],
   "source": [
    "class Student:\n",
    "    ## class variable\n",
    "    tuition = 1000\n",
    "    technology_fee = 100\n",
    "    \n",
    "    ## We use a constructor method to create a student\n",
    "    def __init__(self, first, last, id, campus, program, enroll_semester):\n",
    "        self.first = first\n",
    "        self.last = last\n",
    "        self.id = id\n",
    "        self.campus = campus\n",
    "        self.program = program\n",
    "        self.enroll_semester = enroll_semester\n",
    "\n",
    "    ## Create total_credits method here\n",
    "    def total_credits(self):\n",
    "        if self.program == 'Masters':\n",
    "            return 30\n",
    "        elif self.program =='Certificate':\n",
    "            return  12\n",
    "\n",
    "    def total_tuition(self):\n",
    "        return self.tuition * self.total_credits() + self.technology_fee\n",
    "    \n",
    "    def __repr__(self):\n",
    "        return f'{self.id} - {self.first} {self.last} ({self.campus})'"
   ]
  },
  {
   "cell_type": "code",
   "execution_count": null,
   "metadata": {},
   "outputs": [],
   "source": [
    "student1 = Student(first = 'John',\n",
    "                   last = 'Smith',\n",
    "                   id = 20210413557, \n",
    "                   campus = 'Shady Grove', \n",
    "                   program = 'Masters', \n",
    "                   enroll_semester = 'Fall 2020' )"
   ]
  },
  {
   "cell_type": "code",
   "execution_count": null,
   "metadata": {},
   "outputs": [],
   "source": [
    "student1"
   ]
  },
  {
   "cell_type": "code",
   "execution_count": null,
   "metadata": {},
   "outputs": [],
   "source": [
    "class ShoppingCart: \n",
    "    \n",
    "    def __init__(self):\n",
    "        self.items = []\n",
    "        \n",
    "    def add_item(self, item):\n",
    "        self.items.append(item)\n",
    "        \n",
    "    def add_items(self, items):\n",
    "        self.items.extend(items)\n",
    "    "
   ]
  },
  {
   "cell_type": "code",
   "execution_count": null,
   "metadata": {},
   "outputs": [],
   "source": [
    "cart1 = ShoppingCart()\n",
    "cart1.add_item('milk')\n",
    "cart1.add_item('eggs')\n",
    "cart1.add_item('butter')\n",
    "\n",
    "cart1"
   ]
  },
  {
   "cell_type": "code",
   "execution_count": null,
   "metadata": {},
   "outputs": [],
   "source": [
    "len(cart1)"
   ]
  },
  {
   "cell_type": "code",
   "execution_count": null,
   "metadata": {},
   "outputs": [],
   "source": [
    "cart2 = ShoppingCart()\n",
    "cart2.add_item('milk')\n",
    "cart2.add_item('eggs')\n",
    "cart2.add_item('butter')\n",
    "\n",
    "cart2"
   ]
  },
  {
   "cell_type": "code",
   "execution_count": null,
   "metadata": {},
   "outputs": [],
   "source": [
    "cart1 == cart2"
   ]
  },
  {
   "cell_type": "code",
   "execution_count": null,
   "metadata": {},
   "outputs": [],
   "source": [
    "cart3 = ShoppingCart()\n",
    "cart3.add_item('milk')\n",
    "\n",
    "cart1 == cart3"
   ]
  },
  {
   "cell_type": "code",
   "execution_count": null,
   "metadata": {},
   "outputs": [],
   "source": [
    "cart1 > cart3"
   ]
  },
  {
   "cell_type": "code",
   "execution_count": null,
   "metadata": {},
   "outputs": [],
   "source": [
    "cart1 + cart3"
   ]
  },
  {
   "cell_type": "markdown",
   "metadata": {},
   "source": [
    "https://www.section.io/engineering-education/dunder-methods-python/"
   ]
  },
  {
   "cell_type": "code",
   "execution_count": null,
   "metadata": {},
   "outputs": [],
   "source": [
    "import pandas as pd\n",
    "\n",
    "df = pd.DataFrame()\n",
    "df['A'] = [1,2]\n",
    "\n",
    "df['A'] + df['A']"
   ]
  },
  {
   "cell_type": "code",
   "execution_count": null,
   "metadata": {},
   "outputs": [],
   "source": [
    "# dir(df['A'])"
   ]
  },
  {
   "cell_type": "code",
   "execution_count": null,
   "metadata": {},
   "outputs": [],
   "source": [
    "import numpy as np\n",
    "\n",
    "3 + np.arange(10)"
   ]
  },
  {
   "cell_type": "code",
   "execution_count": null,
   "metadata": {},
   "outputs": [],
   "source": [
    "'' + np.arange(10)"
   ]
  },
  {
   "cell_type": "code",
   "execution_count": null,
   "metadata": {},
   "outputs": [],
   "source": [
    "class MyStr(str):\n",
    "    \n",
    "    def __add__(self, other): \n",
    "        print('__add__ ran')\n",
    "        \n",
    "        if type(other) == str:\n",
    "            return ''.join([self,other])\n",
    "        \n",
    "        return np.array([self + str(x) for x in other])\n",
    "\n",
    "MyStr('3') + np.arange(10)"
   ]
  },
  {
   "cell_type": "code",
   "execution_count": null,
   "metadata": {},
   "outputs": [],
   "source": [
    "MyStr('hello') + ' how are you?'"
   ]
  },
  {
   "cell_type": "markdown",
   "metadata": {},
   "source": [
    "## Composition\n",
    "\n",
    "object composition is a way to combine objects or data types into more complex ones. https://en.wikipedia.org/wiki/Object_composition"
   ]
  },
  {
   "cell_type": "code",
   "execution_count": null,
   "metadata": {},
   "outputs": [],
   "source": [
    "class Leg:\n",
    "    def __init__(self, location): # all attributes a leg can have\n",
    "        self.location=location\n",
    "    \n",
    "    def move(self):\n",
    "        # all muscle movements \n",
    "        print(f'{self.location} moving leg muscles')\n",
    "    \n",
    "    \n",
    "class Lung:\n",
    "    def __init__(self):\n",
    "        pass\n",
    "\n",
    "    def breathe(self):\n",
    "        print('breating')\n",
    "        \n",
    "class Brain:\n",
    "    def __init__(self, iq):\n",
    "        self.iq = iq\n",
    "    \n",
    "    def think(self):\n",
    "        print(f'thinking with {self.iq} IQ capacity')\n",
    "\n",
    "\n",
    "## Many other classes\n",
    "\n",
    "class Animal:\n",
    "    def __init__(self, iq=100 ):\n",
    "        self.brain = Brain(iq)\n",
    "        self.left_leg = Leg('left')\n",
    "        self.right_leg = Leg('right')\n",
    "        self.lung = Lung()\n",
    "        \n",
    "    def walk(self, steps=1):\n",
    "        for i in range(steps):\n",
    "            print(f'step {i+1}')\n",
    "            self.left_leg.move()\n",
    "            self.right_leg.move()\n",
    "    \n",
    "    def eat(self):\n",
    "        # eating using mouth/beak etc\n",
    "        print('eating')\n",
    "        \n",
    "    def think(self):\n",
    "        self.brain.think()\n",
    "    \n",
    "    def breathe(self):\n",
    "        self.lung.breathe()"
   ]
  },
  {
   "cell_type": "code",
   "execution_count": null,
   "metadata": {},
   "outputs": [],
   "source": [
    "chicken = Animal(iq=5)\n",
    "chicken.walk(steps=2)"
   ]
  },
  {
   "cell_type": "code",
   "execution_count": null,
   "metadata": {},
   "outputs": [],
   "source": [
    "chicken.think()"
   ]
  },
  {
   "cell_type": "code",
   "execution_count": null,
   "metadata": {},
   "outputs": [],
   "source": [
    "chicken.breathe()"
   ]
  },
  {
   "cell_type": "markdown",
   "metadata": {},
   "source": [
    "Can you think of any example to composition from what we have learned so far?\n",
    "\n",
    "__IMPORTANT NOTE__ (Maybe not directly related.) Never design code based on real life. The code is above is for an analogy. If we try it to copy directly from life, we would keep hitting on limitations because of exceptions in real life. Eg: Penguin is a bird but cannot fly, dophin is a fish but does not lay eggs. \n",
    "\n",
    "## Aggregation (Optional but very good to know)\n",
    "Instead of instantiating objects inside the class, instantiate them outside and pass them into the class"
   ]
  },
  {
   "cell_type": "code",
   "execution_count": null,
   "metadata": {},
   "outputs": [],
   "source": [
    "# Let's start with this example\n",
    "\n",
    "class DefaultEngine:  \n",
    "    def run(self):\n",
    "        print('default engine is running')\n",
    "\n",
    "class Vehicle:\n",
    "    def __init__(self):\n",
    "        self.engine = DefaultEngine()\n",
    "    \n",
    "    def start(self):\n",
    "        self.engine.run()\n",
    "        \n",
    "    def go(self):\n",
    "        print('going')"
   ]
  },
  {
   "cell_type": "code",
   "execution_count": null,
   "metadata": {},
   "outputs": [],
   "source": [
    "car = Vehicle()\n",
    "car.start()"
   ]
  },
  {
   "cell_type": "code",
   "execution_count": null,
   "metadata": {},
   "outputs": [],
   "source": [
    "class AdvancedEngine:  \n",
    "    def run(self):\n",
    "        print('advanced engine is running')\n",
    "        "
   ]
  },
  {
   "cell_type": "markdown",
   "metadata": {},
   "source": [
    "How can I create the same car with this new engine?"
   ]
  },
  {
   "cell_type": "code",
   "execution_count": null,
   "metadata": {},
   "outputs": [],
   "source": [
    "# let's redesign the class\n",
    "\n",
    "class Vehicle:\n",
    "    def __init__(self, engine=None):\n",
    "        self.engine = engine or DefaultEngine() # if engine passed in the constructor use it otherwise use DefaultEngine\n",
    "    \n",
    "    def start(self):\n",
    "        self.engine.run()\n",
    "        \n",
    "    def go(self):\n",
    "        print('going')"
   ]
  },
  {
   "cell_type": "code",
   "execution_count": null,
   "metadata": {},
   "outputs": [],
   "source": [
    "def_engine = DefaultEngine()\n",
    "adv_engine = AdvancedEngine()\n",
    "\n",
    "car1 = Vehicle(def_engine)\n",
    "car2 = Vehicle(adv_engine)\n",
    "car3 = Vehicle()\n",
    "\n",
    "car1.start()\n",
    "car2.start()\n",
    "car3.start()"
   ]
  },
  {
   "cell_type": "code",
   "execution_count": null,
   "metadata": {},
   "outputs": [],
   "source": [
    "class CrazyEngine:\n",
    "    def run(self):\n",
    "        print('running like crazy')\n",
    "        \n",
    "car4 = Vehicle(CrazyEngine())\n",
    "car4.start()"
   ]
  },
  {
   "cell_type": "code",
   "execution_count": null,
   "metadata": {},
   "outputs": [],
   "source": [
    "# will this work? \n",
    "# is it a good pattern? \n",
    "# what's wrong with this approach? \n",
    "\n",
    "class BrokenEngine:\n",
    "    def run(self):\n",
    "        print('this does not work')\n",
    "\n",
    "class Vehicle_NotGood:\n",
    "    def __init__(self, engine_type):\n",
    "        if engine_type == 'normal':\n",
    "            self.engine =  DefaultEngine()\n",
    "        elif engine_type == 'advanced':\n",
    "            self.engine = AdvancedEngine()\n",
    "        else:\n",
    "            self.engine = BrokenEngine()\n",
    "    \n",
    "    def start(self):\n",
    "        self.engine.run()\n",
    "        \n",
    "c = Vehicle_NotGood('normal')\n",
    "c.start()"
   ]
  },
  {
   "cell_type": "markdown",
   "metadata": {
    "id": "JatyeSCIf380"
   },
   "source": [
    "## Inheritence"
   ]
  },
  {
   "cell_type": "code",
   "execution_count": null,
   "metadata": {
    "id": "dAolMk34ghvB"
   },
   "outputs": [],
   "source": [
    "class Plane(Vehicle):\n",
    "    def __init__(self, engine=None):\n",
    "        super().__init__(engine)\n",
    "        \n",
    "    def take_off(self):\n",
    "        print('taking off...')\n",
    "    \n",
    "    # override\n",
    "    def go(self): # overrides the base class' go method\n",
    "        print('flying...')"
   ]
  },
  {
   "cell_type": "code",
   "execution_count": null,
   "metadata": {
    "id": "FpI-Ytr0g03w"
   },
   "outputs": [],
   "source": [
    "plane = Plane()\n",
    "plane.start()"
   ]
  },
  {
   "cell_type": "code",
   "execution_count": null,
   "metadata": {
    "colab": {
     "base_uri": "https://localhost:8080/"
    },
    "id": "vn-TD3rphGAg",
    "outputId": "0607f7af-ec7c-4ec1-a2b0-205d682bb4f6"
   },
   "outputs": [],
   "source": [
    "plane.take_off()"
   ]
  },
  {
   "cell_type": "code",
   "execution_count": null,
   "metadata": {},
   "outputs": [],
   "source": [
    "plane.go()"
   ]
  },
  {
   "cell_type": "code",
   "execution_count": null,
   "metadata": {
    "colab": {
     "base_uri": "https://localhost:8080/"
    },
    "id": "6wLIcaT9hpa4",
    "outputId": "7bb1b8e9-3e4a-46c2-9e81-24abbf47e0ec"
   },
   "outputs": [],
   "source": [
    "car.go()"
   ]
  },
  {
   "cell_type": "code",
   "execution_count": null,
   "metadata": {
    "id": "uYcGMaABh6vF"
   },
   "outputs": [],
   "source": [
    "class JetEngine(DefaultEngine):\n",
    "    # override\n",
    "    def run(self):\n",
    "        print('jet engine is running')\n",
    "        \n",
    "jet_engine = JetEngine()\n",
    "jet = Plane(jet_engine)\n",
    "\n",
    "jet.start()\n",
    "jet.go()"
   ]
  },
  {
   "cell_type": "code",
   "execution_count": null,
   "metadata": {
    "colab": {
     "base_uri": "https://localhost:8080/"
    },
    "id": "G-7Xmm_giGhY",
    "outputId": "61bcaa03-22b2-426f-a3c5-6b0fb2fd6942"
   },
   "outputs": [],
   "source": [
    "vehicles = [\n",
    "    jet,\n",
    "    plane,\n",
    "    car\n",
    "]\n",
    "\n",
    "for v in vehicles:\n",
    "    v.start()\n",
    "    v.go()"
   ]
  },
  {
   "cell_type": "markdown",
   "metadata": {},
   "source": [
    "That's how in games, thousands of different characters exhibit their own behaviors"
   ]
  },
  {
   "cell_type": "code",
   "execution_count": null,
   "metadata": {
    "id": "ZuLlqsR75IYh"
   },
   "outputs": [],
   "source": [
    "import pandas as pd\n",
    "\n",
    "df = pd.DataFrame()\n",
    "type(df)"
   ]
  },
  {
   "cell_type": "code",
   "execution_count": null,
   "metadata": {},
   "outputs": [],
   "source": [
    "df.describe()"
   ]
  },
  {
   "cell_type": "code",
   "execution_count": null,
   "metadata": {},
   "outputs": [],
   "source": [
    "df.insight()"
   ]
  },
  {
   "cell_type": "code",
   "execution_count": null,
   "metadata": {
    "id": "_oGULY4xYTlv"
   },
   "outputs": [],
   "source": [
    "class MyDataFrame(pd.core.frame.DataFrame):\n",
    "    # override\n",
    "    def describe(self):\n",
    "        try: \n",
    "            return super().describe()\n",
    "        \n",
    "        except ValueError as err: \n",
    "            print (err)\n",
    "            \n",
    "    def insight(self):\n",
    "        print(self.shape)\n",
    "        for col in self.columns:\n",
    "            print(col + ' has ' + str(self[col].nunique()) + ' unique values')\n",
    "            "
   ]
  },
  {
   "cell_type": "code",
   "execution_count": null,
   "metadata": {
    "colab": {
     "base_uri": "https://localhost:8080/",
     "height": 35
    },
    "id": "bsqZvN38ZwFf",
    "outputId": "72729817-b93b-45a8-b8df-d79c6d75c84f"
   },
   "outputs": [],
   "source": [
    "df = MyDataFrame()\n",
    "type(df)"
   ]
  },
  {
   "cell_type": "code",
   "execution_count": null,
   "metadata": {},
   "outputs": [],
   "source": [
    "df.describe()"
   ]
  },
  {
   "cell_type": "code",
   "execution_count": null,
   "metadata": {},
   "outputs": [],
   "source": [
    "df['A'] = [x for x in range(100)]\n",
    "type(df['A'])"
   ]
  },
  {
   "cell_type": "code",
   "execution_count": null,
   "metadata": {},
   "outputs": [],
   "source": [
    "df['B'] = df['A'] * 2"
   ]
  },
  {
   "cell_type": "code",
   "execution_count": null,
   "metadata": {},
   "outputs": [],
   "source": [
    "df['C']  = ['Even' if x % 2 == 0 else 'Odd' for x in df['A']]"
   ]
  },
  {
   "cell_type": "code",
   "execution_count": null,
   "metadata": {},
   "outputs": [],
   "source": [
    "df.head()"
   ]
  },
  {
   "cell_type": "code",
   "execution_count": null,
   "metadata": {},
   "outputs": [],
   "source": [
    "df.insight()"
   ]
  },
  {
   "cell_type": "markdown",
   "metadata": {},
   "source": [
    "## Abstract Classes"
   ]
  },
  {
   "cell_type": "code",
   "execution_count": null,
   "metadata": {},
   "outputs": [],
   "source": [
    "class Shape:\n",
    "    \n",
    "    def calculate_area(self):\n",
    "        \"\"\"\n",
    "        abstract method\n",
    "        \"\"\"\n",
    "        raise NotImplemented('method not implemented')"
   ]
  },
  {
   "cell_type": "code",
   "execution_count": null,
   "metadata": {},
   "outputs": [],
   "source": [
    "# Shape().calculate_area()"
   ]
  },
  {
   "cell_type": "code",
   "execution_count": null,
   "metadata": {},
   "outputs": [],
   "source": [
    "class Square(Shape):\n",
    "    \n",
    "    def __init__(self, size):\n",
    "        self.size = size\n",
    "    \n",
    "    def calculate_area(self):\n",
    "        return self.size ** 2\n",
    "    \n",
    "s = Square(4)\n",
    "s.calculate_area()"
   ]
  },
  {
   "cell_type": "code",
   "execution_count": null,
   "metadata": {},
   "outputs": [],
   "source": [
    "class RightTriangle(Shape):\n",
    "    \n",
    "    def __init__(self, base, height):\n",
    "        self.base = base\n",
    "        self.height = height\n",
    "    \n",
    "    def calculate_area(self):\n",
    "        return self.base * self.height / 2\n",
    "    \n",
    "t = RightTriangle(10, 5)\n",
    "t.calculate_area()"
   ]
  },
  {
   "cell_type": "code",
   "execution_count": null,
   "metadata": {},
   "outputs": [],
   "source": [
    "import os\n",
    "\n",
    "class FileProcessor:\n",
    "    \n",
    "    def __init__(self, path, file_types=['.ipynb']):\n",
    "        print('doing some initialization')\n",
    "        \n",
    "        self.files = self.find_all_files(path, file_types)\n",
    "\n",
    "    \n",
    "    def find_all_files(self, path, file_types):\n",
    "        paths = []\n",
    "        for root, dirs, files in os.walk(path):\n",
    "            for file in files:\n",
    "                if any([file.endswith(ft) for ft in file_types]):\n",
    "                    path = os.path.join(root, file)\n",
    "                    # print(path)\n",
    "                    paths.append(path)\n",
    "        return paths\n",
    "    \n",
    "    def read_file(self, file_path, encoding='utf8'):\n",
    "#         print(file_path)\n",
    "        with open(file_path,encoding=encoding) as f:\n",
    "            return f.read()\n",
    "    \n",
    "    def start(self):\n",
    "        \"\"\"\n",
    "        Entry point for the class\n",
    "        \"\"\"\n",
    "        for file in self.files:\n",
    "            self.process_file(file)\n",
    "        \n",
    "    def process_file(self, file_path):\n",
    "        \"\"\"\n",
    "        abstract method\n",
    "        \"\"\"\n",
    "        raise NotImplemented('process_file method not implemented')"
   ]
  },
  {
   "cell_type": "code",
   "execution_count": null,
   "metadata": {},
   "outputs": [],
   "source": [
    "# FileProcessor(path='../').start()"
   ]
  },
  {
   "cell_type": "code",
   "execution_count": null,
   "metadata": {},
   "outputs": [],
   "source": [
    "class ContainsSensitiveData(FileProcessor):\n",
    "    \n",
    "    def __init__(self):\n",
    "        super().__init__(path='../', file_types=['.ipynb'])\n",
    "    \n",
    "    def process_file(self, file_path):\n",
    "        try:\n",
    "            content = self.read_file(file_path)\n",
    "\n",
    "            if 'token' in content:\n",
    "                print(file_path, 'contains sensitive data')\n",
    "        \n",
    "        except Exception as e:\n",
    "            print('--- ERRROR', file_path, str(e))\n",
    "\n",
    "                \n",
    "ContainsSensitiveData().start()"
   ]
  },
  {
   "cell_type": "markdown",
   "metadata": {
    "id": "bS1iBUxsvksf"
   },
   "source": [
    "# Part-III"
   ]
  },
  {
   "cell_type": "markdown",
   "metadata": {
    "id": "noJG-595vn-C"
   },
   "source": [
    "Work on your lab"
   ]
  },
  {
   "cell_type": "markdown",
   "metadata": {
    "id": "pnHyEAENp6vm"
   },
   "source": [
    "## Resources"
   ]
  },
  {
   "cell_type": "markdown",
   "metadata": {
    "id": "UxerlL53qhSm"
   },
   "source": [
    "[Py4e - OOP](https://www.py4e.com/lessons/Objects#)\n",
    "\n",
    "[Python OOP Tutorials](https://www.youtube.com/playlist?list=PL-osiE80TeTsqhIuOqKhwlXsIBIdSeYtc)\n",
    "\n",
    "[Imperative vs Declarative Programming](https://www.youtube.com/watch?v=yOBBkIJBEL8&ab_channel=TadasPetra)\n",
    "\n",
    "[Python OPP Exercises](https://pynative.com/python-object-oriented-programming-oop-exercise/)"
   ]
  }
 ],
 "metadata": {
  "colab": {
   "collapsed_sections": [],
   "name": "Instructor_Copy_OOP.ipynb",
   "provenance": []
  },
  "kernelspec": {
   "display_name": "Python 3",
   "language": "python",
   "name": "python3"
  },
  "language_info": {
   "codemirror_mode": {
    "name": "ipython",
    "version": 3
   },
   "file_extension": ".py",
   "mimetype": "text/x-python",
   "name": "python",
   "nbconvert_exporter": "python",
   "pygments_lexer": "ipython3",
   "version": "3.8.8"
  },
  "toc": {
   "base_numbering": 1,
   "nav_menu": {},
   "number_sections": true,
   "sideBar": true,
   "skip_h1_title": false,
   "title_cell": "Table of Contents",
   "title_sidebar": "Contents",
   "toc_cell": false,
   "toc_position": {},
   "toc_section_display": true,
   "toc_window_display": false
  }
 },
 "nbformat": 4,
 "nbformat_minor": 1
}
