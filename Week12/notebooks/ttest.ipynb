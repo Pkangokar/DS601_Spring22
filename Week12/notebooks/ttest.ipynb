{
 "cells": [
  {
   "cell_type": "code",
   "execution_count": 1,
   "metadata": {},
   "outputs": [],
   "source": [
    "import pandas as pd\n",
    "\n",
    "from scipy.stats import ttest_ind, norm\n",
    "from matplotlib import pyplot as plt"
   ]
  },
  {
   "cell_type": "code",
   "execution_count": 2,
   "metadata": {},
   "outputs": [
    {
     "data": {
      "text/plain": [
       "array([ 3.11957469e+00,  1.59473693e+01,  3.48132707e+00, -2.60824645e+00,\n",
       "       -3.85194430e+00,  2.69778639e+00, -3.21138803e+00,  5.38471979e+00,\n",
       "       -1.20029589e+01,  2.00520516e+01, -1.26729553e+01, -2.93905726e+01,\n",
       "        8.78039754e+00,  1.51229991e+01,  1.79352259e+01,  9.42349708e+00,\n",
       "        9.43133326e+00,  9.68246862e+00,  2.03441399e+00,  4.53312862e+00,\n",
       "       -7.54540975e+00,  2.37135817e+01,  2.19423648e+00,  7.27679648e+00,\n",
       "        1.67032521e+01, -5.26844927e+00, -7.26949232e+00,  1.26490877e+01,\n",
       "        3.56011593e+00,  7.00616425e+00,  1.00341224e+01, -9.89142551e+00,\n",
       "        4.97969340e-01,  3.82931707e+00, -4.99723307e+00,  2.72316416e+01,\n",
       "        9.19512642e-01,  1.37029542e+01,  3.62980569e+00, -3.30775112e+00,\n",
       "        1.17402201e+01,  2.21911535e+00,  1.21392198e+01,  3.95068032e+00,\n",
       "        6.37626944e+00, -2.21325451e+00,  1.48288729e-01,  1.93568300e+01,\n",
       "        1.04548445e+01,  1.17001270e+01, -1.35526307e+01,  1.45782601e+01,\n",
       "        8.93939551e+00,  2.19144497e+01,  1.32383291e+01,  1.01499364e+01,\n",
       "       -8.38662184e+00,  5.27493869e-01,  1.68700173e+00, -8.04768177e+00,\n",
       "        1.52060652e+01,  1.69540123e+01, -3.24057387e+00,  8.59206746e+00,\n",
       "        6.96570724e+00,  1.29544540e+00,  2.57572142e-01, -3.14736317e+00,\n",
       "       -1.31808398e+00,  3.67428169e+00,  6.36095978e+00,  1.26028037e+01,\n",
       "        1.73293151e+01,  4.39826290e+00, -5.24461074e-02, -1.56261247e+00,\n",
       "       -5.11383877e+00, -3.12861666e+00,  1.81428155e+01,  4.33840561e+00,\n",
       "       -9.60301575e+00,  1.07160435e+00, -1.31247037e+01,  1.32297090e+01,\n",
       "        1.19503574e+00, -7.62364641e-01, -4.02726632e+00,  1.28912800e+00,\n",
       "        8.21136861e+00,  1.40876711e+01,  7.34298872e+00, -6.61212614e+00,\n",
       "       -3.07442213e+00, -1.08823526e+01,  1.74997175e+01, -9.61158118e+00,\n",
       "        1.52045315e+01,  4.60797686e+00,  4.89563455e+00, -2.73491010e-01,\n",
       "        7.60432869e+00, -5.47090109e+00,  2.91711492e+00,  1.19776695e+01,\n",
       "       -1.54240098e+01, -9.89052650e+00,  7.03992340e+00,  3.70009304e+00,\n",
       "       -4.62425441e-01, -2.63554329e+00, -1.28053607e+00,  7.00972302e+00,\n",
       "        2.70577991e+01, -6.87711843e+00, -7.78505017e+00,  7.61026344e+00,\n",
       "        1.75626704e+00, -1.84786353e+00,  2.25880154e+00,  1.03912981e+01,\n",
       "       -5.09797615e+00,  1.10622977e+01, -2.08186984e+00, -9.04922168e-01,\n",
       "        3.23014273e+00,  1.97779294e+01,  1.90675200e+01, -1.79700971e+00,\n",
       "        2.53661396e+01, -4.62009232e+00, -3.77076276e+00,  1.49575635e+01,\n",
       "       -5.00418202e+00,  1.64789349e+01,  7.37364013e+00,  1.04188957e+01,\n",
       "        1.71989281e+01, -7.12714253e+00,  1.62960256e+01,  1.28413090e+01,\n",
       "       -1.15165776e+01,  9.78657223e+00,  1.32911507e+01,  1.70351284e+01,\n",
       "        1.29696687e+00,  1.43725976e+01,  5.23065605e+00,  1.38931900e+01,\n",
       "        1.53737323e+01,  7.32092421e+00,  4.35379108e+00, -7.58047875e+00,\n",
       "        9.30168379e+00,  1.45265324e+01, -4.15008886e+00,  4.39435345e+00,\n",
       "       -5.28825965e+00, -1.05933144e+01,  2.37659725e+01, -9.25736822e-01,\n",
       "        4.90103749e+00,  1.49874821e+01,  2.25141465e+00, -2.97195799e+00,\n",
       "       -1.33802332e+01,  2.11550004e+01,  1.36500535e+01, -1.44293013e+01,\n",
       "       -7.93535511e+00,  3.17411888e+00,  5.65106184e+00, -1.19521626e+00,\n",
       "        3.62516499e+00,  8.23455891e+00,  6.17783874e+00,  1.00071659e+00,\n",
       "        8.57531406e+00,  6.86963894e+00,  1.13145615e+01, -2.05562325e+00,\n",
       "        9.94975346e+00,  1.51835372e+00,  4.31899134e+00, -8.53519000e-01,\n",
       "        2.08375350e+01, -1.16911437e+01, -4.78609315e+00, -8.91859749e+00,\n",
       "        1.32700147e+01, -2.32028331e+00,  5.24681861e-01, -8.00679879e+00,\n",
       "        9.35189653e+00, -1.89281262e+01, -6.51168695e-01,  2.24593174e-03,\n",
       "        1.67241537e+01, -2.73477611e+00, -4.36657588e+00, -6.60268478e+00,\n",
       "        4.96765676e+00,  4.68190934e+00,  5.38638007e+00,  1.36497111e+00,\n",
       "        1.26094893e+01,  3.31810860e+01,  2.23727670e+01,  9.67712281e+00,\n",
       "       -1.48026547e+00,  1.76330570e+00,  1.57114908e+01, -3.09270433e+00,\n",
       "        1.06399353e+01, -7.93867141e+00,  1.12046999e+01,  2.23306086e+00,\n",
       "        2.72104758e+01, -8.85138383e+00,  1.31546243e+01,  3.57695484e+00,\n",
       "        9.75642748e+00, -7.14093730e+00,  2.77760752e+01, -2.32780314e+00,\n",
       "       -9.64879867e+00,  3.70826548e+00, -1.23122701e+01,  1.28522930e+01,\n",
       "       -8.05961248e+00,  1.54954474e+00,  8.27593708e+00, -5.28548424e+00,\n",
       "       -6.44144558e+00, -1.04719424e+00, -9.74736070e+00,  1.51861138e+01,\n",
       "        2.20224355e+01,  5.74309325e+00,  1.04574824e+01,  5.56951346e+00,\n",
       "       -5.79879069e+00, -6.01743323e+00,  7.60867418e+00,  4.82340297e+00,\n",
       "       -2.04355232e+00,  1.82660299e+01,  2.68803922e+00, -6.27989755e-01,\n",
       "        5.24061362e+00,  1.93368624e+01, -9.71554202e-01,  1.22307816e+01,\n",
       "        1.00502686e+01,  3.04636482e+00,  4.06136641e+00,  6.12124856e+00,\n",
       "        2.03627668e+01,  1.22837547e+01,  5.10058394e+00,  5.09678382e+00,\n",
       "        7.66300594e-01,  6.64528287e+00, -2.53808847e+00, -5.40304744e-01,\n",
       "        6.13283187e+00,  5.66822483e+00,  1.30537487e+01,  1.06002780e+01,\n",
       "        8.91948831e+00,  8.19762749e+00, -9.63538615e+00,  6.79239094e+00,\n",
       "        4.98386492e+00,  3.22805501e+01,  9.16362553e-01, -1.22376787e+01,\n",
       "       -6.00862254e+00,  1.35743143e+01,  7.79574219e+00,  3.75415986e+00,\n",
       "        1.80272998e+01,  9.68691903e+00, -8.47617590e-01,  6.40502256e+00,\n",
       "        4.25438147e+00,  7.50514738e+00,  5.10298443e+00,  1.77614855e+00,\n",
       "       -2.51257259e+01,  8.02779636e+00, -6.67043162e+00,  8.07371971e+00,\n",
       "        1.20104848e+01, -1.22616446e+01,  6.16923969e+00,  2.37651547e+01,\n",
       "        1.38902311e+01,  2.34182779e+01,  4.32448704e-01,  1.54341844e+01,\n",
       "       -7.52084532e+00,  5.23403947e-01,  5.73140483e+00,  9.29015091e+00,\n",
       "        1.51269378e+01, -8.08594154e+00,  4.65893630e+00,  1.62995578e+01,\n",
       "        1.76333213e+01, -1.02582108e+01,  6.09044094e+00, -9.78093432e+00,\n",
       "        1.40626400e+01,  3.22671623e+00,  1.71157330e+01, -6.08941876e+00,\n",
       "       -5.75571154e-01,  2.43954596e+01,  1.06531111e+01,  1.26590662e+01,\n",
       "       -6.55007523e+00,  9.89667219e+00,  2.12007327e+01,  4.86431593e+00,\n",
       "        1.72442769e+00,  5.67946707e+00,  1.92156327e+01,  6.96433673e+00,\n",
       "        2.10314645e+01, -6.57681206e+00, -1.54977153e-01, -6.05992346e+00,\n",
       "       -1.61951603e+00,  1.66537490e+01, -6.24659669e-01,  9.10732016e-01,\n",
       "        1.42270962e+01,  7.79671194e+00,  8.28872307e+00,  9.03230603e+00,\n",
       "        1.23409830e+01,  1.07690664e+01,  8.32361665e+00,  9.55835929e+00,\n",
       "        2.58706013e+00,  5.09903722e+00, -2.44333221e+00,  1.94239922e+00,\n",
       "        5.62940495e+00,  8.15575737e-01, -9.54711392e+00,  1.82326390e+01,\n",
       "        6.66647862e+00, -1.88675898e+00, -2.07156624e+00, -9.87945629e+00,\n",
       "        1.39482400e+01, -6.29470698e+00, -9.96694680e+00,  9.22219735e-01,\n",
       "       -3.72184403e+00, -9.77204145e+00,  3.69298967e+00,  3.06951326e+00,\n",
       "        6.98429011e+00,  2.77787263e+01,  8.94754030e+00,  4.76392880e+00,\n",
       "       -2.82424529e-01,  7.46509634e+00,  1.66571382e+01,  3.05796894e+00,\n",
       "        1.13358056e+01,  4.06352799e+00,  2.59432771e+01, -3.34439864e+00,\n",
       "        1.17004056e+01,  1.99280976e+00,  8.60443191e+00, -2.33093743e+00,\n",
       "        1.36157078e+01,  1.18049305e+01, -2.89873813e+00, -4.83801479e+00,\n",
       "       -1.37293083e+01,  2.44009887e+01, -2.86412220e+00, -3.14181047e+00,\n",
       "        1.10844044e+01,  8.11771397e+00,  8.93347783e+00,  1.31940098e+00,\n",
       "       -3.92049886e+00,  1.04494354e+01, -7.30176551e+00,  6.43011175e+00,\n",
       "        7.09830181e+00,  3.89601994e+00,  7.85552375e+00,  1.76504431e+00,\n",
       "        1.58304957e+01,  1.61254469e+01, -4.54845548e-02,  5.99249118e+00,\n",
       "        7.13858163e+00,  1.42865628e+01, -4.41382482e+00, -7.49885420e+00,\n",
       "        1.58361211e+01,  3.36143557e-01, -1.08227384e+01,  8.94376345e+00,\n",
       "        1.92846715e+00, -4.03091719e-01,  1.02383171e+01, -1.66979239e+01,\n",
       "        6.90048969e+00, -3.92200668e+00,  7.32193083e+00,  6.60999636e+00,\n",
       "        1.31464640e+01,  2.41415923e+00, -1.59279250e+00, -9.79476837e+00,\n",
       "        9.16501175e+00, -5.47740012e+00, -4.48541100e+00, -1.17958219e+00,\n",
       "       -9.12877722e+00, -1.24401838e+00,  1.55579274e+00, -7.02215182e+00,\n",
       "        8.89433721e+00, -9.13320654e+00, -7.17120331e+00,  1.81589824e+00,\n",
       "        9.45541241e-01,  4.06397794e+00,  3.94003223e+00, -2.89073971e+00,\n",
       "        1.43700084e+01,  5.53993252e+00,  6.97823225e+00,  2.87784862e+01,\n",
       "        1.74423250e+01, -4.45084157e+00,  9.21789246e+00,  1.75268989e+01,\n",
       "        1.85138588e+01, -2.13797053e+00,  1.05785567e+01,  1.14542877e+01,\n",
       "        2.86067100e+01,  3.50801666e+00,  1.94177109e+01,  6.77774654e+00,\n",
       "       -2.14395509e+00,  1.48651690e+01,  2.18099194e+01,  6.46378540e-01,\n",
       "       -3.21198523e+00,  4.44115850e+00,  2.08299352e+01,  5.73669204e-01,\n",
       "        1.36232264e+01, -1.66601454e+00, -5.82432355e+00,  7.50399632e-01,\n",
       "        8.51388970e-01,  8.05189986e+00, -7.31310376e+00,  6.95261852e+00,\n",
       "        1.32084814e+01,  1.55553919e+01, -6.85277355e-02,  7.75691663e+00,\n",
       "        8.83231270e+00, -3.88649433e+00, -9.04887681e-01,  6.38485533e+00,\n",
       "       -4.98749057e+00,  2.23985249e+01,  8.21273244e+00,  2.11783575e+00,\n",
       "        1.36344386e+01,  1.49366333e+00,  1.14048210e+01,  1.39898549e+01,\n",
       "       -2.25324495e+01,  7.13060605e+00,  3.27290149e+00,  5.32874111e+00,\n",
       "        2.89273676e+00,  6.36733758e+00,  2.00156396e+01,  1.20464542e+01,\n",
       "       -1.27998237e+00,  1.74165670e+01,  1.78982111e+01, -1.16258208e+01])"
      ]
     },
     "execution_count": 2,
     "metadata": {},
     "output_type": "execute_result"
    }
   ],
   "source": [
    "rvs1 =  norm.rvs(loc=5,scale=10,size=500)\n",
    "rvs1"
   ]
  },
  {
   "cell_type": "code",
   "execution_count": 3,
   "metadata": {},
   "outputs": [],
   "source": [
    "rvs2 =  norm.rvs(loc=5,scale=10,size=1000)"
   ]
  },
  {
   "cell_type": "code",
   "execution_count": 4,
   "metadata": {},
   "outputs": [
    {
     "data": {
      "text/plain": [
       "(array([  6.,  33.,  84., 172., 262., 248., 130.,  53.,   6.,   6.]),\n",
       " array([-26.38502279, -19.82319829, -13.26137379,  -6.69954929,\n",
       "         -0.13772479,   6.42409971,  12.98592421,  19.54774871,\n",
       "         26.10957321,  32.67139771,  39.23322221]),\n",
       " <BarContainer object of 10 artists>)"
      ]
     },
     "execution_count": 4,
     "metadata": {},
     "output_type": "execute_result"
    },
    {
     "data": {
      "image/png": "[encoded data removed]",
      "text/plain": [
       "<Figure size 432x288 with 1 Axes>"
      ]
     },
     "metadata": {
      "needs_background": "light"
     },
     "output_type": "display_data"
    }
   ],
   "source": [
    "plt.hist(rvs1)\n",
    "plt.hist(rvs2, alpha=0.2)"
   ]
  },
  {
   "cell_type": "code",
   "execution_count": 8,
   "metadata": {},
   "outputs": [
    {
     "data": {
      "text/plain": [
       "Ttest_indResult(statistic=0.4440743344875711, pvalue=0.6570529813507314)"
      ]
     },
     "execution_count": 8,
     "metadata": {},
     "output_type": "execute_result"
    }
   ],
   "source": [
    "ttest_ind(rvs1, rvs2)"
   ]
  },
  {
   "cell_type": "code",
   "execution_count": 6,
   "metadata": {},
   "outputs": [],
   "source": [
    "df = pd.read_csv('https://raw.githubusercontent.com/msaricaumbc/DS_data/master/Part1_Crime_2017_to_2018.csv')"
   ]
  },
  {
   "cell_type": "code",
   "execution_count": 7,
   "metadata": {},
   "outputs": [
    {
     "data": {
      "text/plain": [
       "(100677, 19)"
      ]
     },
     "execution_count": 7,
     "metadata": {},
     "output_type": "execute_result"
    }
   ],
   "source": [
    "df.shape"
   ]
  },
  {
   "cell_type": "code",
   "execution_count": 9,
   "metadata": {},
   "outputs": [
    {
     "data": {
      "text/plain": [
       "objectid             int64\n",
       "rowid_               int64\n",
       "crimedatetime       object\n",
       "crimetime           object\n",
       "crimecode           object\n",
       "location            object\n",
       "description         object\n",
       "inside_outside      object\n",
       "weapon              object\n",
       "post               float64\n",
       "district            object\n",
       "neighborhood        object\n",
       "latitude           float64\n",
       "longitude          float64\n",
       "geolocation         object\n",
       "premise             object\n",
       "vriname             object\n",
       "total_incidents      int64\n",
       "hashedrecord        object\n",
       "dtype: object"
      ]
     },
     "execution_count": 9,
     "metadata": {},
     "output_type": "execute_result"
    }
   ],
   "source": [
    "df.dtypes"
   ]
  },
  {
   "cell_type": "code",
   "execution_count": 10,
   "metadata": {},
   "outputs": [],
   "source": [
    "df['crimedatetime'] = pd.to_datetime(df['crimedatetime'])"
   ]
  },
  {
   "cell_type": "code",
   "execution_count": 11,
   "metadata": {},
   "outputs": [
    {
     "data": {
      "text/html": [
       "<div>\n",
       "<style scoped>\n",
       "    .dataframe tbody tr th:only-of-type {\n",
       "        vertical-align: middle;\n",
       "    }\n",
       "\n",
       "    .dataframe tbody tr th {\n",
       "        vertical-align: top;\n",
       "    }\n",
       "\n",
       "    .dataframe thead th {\n",
       "        text-align: right;\n",
       "    }\n",
       "</style>\n",
       "<table border=\"1\" class=\"dataframe\">\n",
       "  <thead>\n",
       "    <tr style=\"text-align: right;\">\n",
       "      <th></th>\n",
       "      <th>0</th>\n",
       "      <th>1</th>\n",
       "      <th>2</th>\n",
       "    </tr>\n",
       "  </thead>\n",
       "  <tbody>\n",
       "    <tr>\n",
       "      <th>objectid</th>\n",
       "      <td>1</td>\n",
       "      <td>2</td>\n",
       "      <td>3</td>\n",
       "    </tr>\n",
       "    <tr>\n",
       "      <th>rowid_</th>\n",
       "      <td>82567</td>\n",
       "      <td>82568</td>\n",
       "      <td>82569</td>\n",
       "    </tr>\n",
       "    <tr>\n",
       "      <th>crimedatetime</th>\n",
       "      <td>2018-12-31 04:36:00</td>\n",
       "      <td>2018-12-31 17:30:00</td>\n",
       "      <td>2018-12-31 11:10:00</td>\n",
       "    </tr>\n",
       "    <tr>\n",
       "      <th>crimetime</th>\n",
       "      <td>4:36:00</td>\n",
       "      <td>17:30:00</td>\n",
       "      <td>11:10:00</td>\n",
       "    </tr>\n",
       "    <tr>\n",
       "      <th>crimecode</th>\n",
       "      <td>6G</td>\n",
       "      <td>6D</td>\n",
       "      <td>4E</td>\n",
       "    </tr>\n",
       "    <tr>\n",
       "      <th>location</th>\n",
       "      <td>400 W LEXINGTON ST</td>\n",
       "      <td>400 E 25TH ST</td>\n",
       "      <td>4200 FAIRFAX RD</td>\n",
       "    </tr>\n",
       "    <tr>\n",
       "      <th>description</th>\n",
       "      <td>LARCENY</td>\n",
       "      <td>LARCENY FROM AUTO</td>\n",
       "      <td>COMMON ASSAULT</td>\n",
       "    </tr>\n",
       "    <tr>\n",
       "      <th>inside_outside</th>\n",
       "      <td>I</td>\n",
       "      <td>O</td>\n",
       "      <td>I</td>\n",
       "    </tr>\n",
       "    <tr>\n",
       "      <th>weapon</th>\n",
       "      <td>NaN</td>\n",
       "      <td>NaN</td>\n",
       "      <td>NaN</td>\n",
       "    </tr>\n",
       "    <tr>\n",
       "      <th>post</th>\n",
       "      <td>114.0</td>\n",
       "      <td>513.0</td>\n",
       "      <td>624.0</td>\n",
       "    </tr>\n",
       "    <tr>\n",
       "      <th>district</th>\n",
       "      <td>CENTRAL</td>\n",
       "      <td>NORTHERN</td>\n",
       "      <td>NORTHWEST</td>\n",
       "    </tr>\n",
       "    <tr>\n",
       "      <th>neighborhood</th>\n",
       "      <td>DOWNTOWN</td>\n",
       "      <td>HARWOOD</td>\n",
       "      <td>WEST FOREST PARK</td>\n",
       "    </tr>\n",
       "    <tr>\n",
       "      <th>latitude</th>\n",
       "      <td>39.2916</td>\n",
       "      <td>39.3181</td>\n",
       "      <td>39.3204</td>\n",
       "    </tr>\n",
       "    <tr>\n",
       "      <th>longitude</th>\n",
       "      <td>-76.6211</td>\n",
       "      <td>-76.611</td>\n",
       "      <td>-76.6877</td>\n",
       "    </tr>\n",
       "    <tr>\n",
       "      <th>geolocation</th>\n",
       "      <td>(39.2916,-76.6211)</td>\n",
       "      <td>(39.3181,-76.611)</td>\n",
       "      <td>(39.3204,-76.6877)</td>\n",
       "    </tr>\n",
       "    <tr>\n",
       "      <th>premise</th>\n",
       "      <td>SPECIALTY STORE</td>\n",
       "      <td>STREET</td>\n",
       "      <td>APT/CONDO - OCCUPIED</td>\n",
       "    </tr>\n",
       "    <tr>\n",
       "      <th>vriname</th>\n",
       "      <td>NaN</td>\n",
       "      <td>NaN</td>\n",
       "      <td>NaN</td>\n",
       "    </tr>\n",
       "    <tr>\n",
       "      <th>total_incidents</th>\n",
       "      <td>1</td>\n",
       "      <td>1</td>\n",
       "      <td>1</td>\n",
       "    </tr>\n",
       "    <tr>\n",
       "      <th>hashedrecord</th>\n",
       "      <td>0xC961940C8A250EDAFFBB5E3D0E48727AC79817AE9EA6...</td>\n",
       "      <td>0x46FADA38EAC4E24AA9CCD81259651137A8073440F5F2...</td>\n",
       "      <td>0xFE7A5EDB382D00C6265CB48762D75AB7D2BC374871E8...</td>\n",
       "    </tr>\n",
       "  </tbody>\n",
       "</table>\n",
       "</div>"
      ],
      "text/plain": [
       "                                                                 0  \\\n",
       "objectid                                                         1   \n",
       "rowid_                                                       82567   \n",
       "crimedatetime                                  2018-12-31 04:36:00   \n",
       "crimetime                                                  4:36:00   \n",
       "crimecode                                                       6G   \n",
       "location                                        400 W LEXINGTON ST   \n",
       "description                                                LARCENY   \n",
       "inside_outside                                                   I   \n",
       "weapon                                                         NaN   \n",
       "post                                                         114.0   \n",
       "district                                                   CENTRAL   \n",
       "neighborhood                                              DOWNTOWN   \n",
       "latitude                                                   39.2916   \n",
       "longitude                                                 -76.6211   \n",
       "geolocation                                     (39.2916,-76.6211)   \n",
       "premise                                       SPECIALTY STORE        \n",
       "vriname                                                        NaN   \n",
       "total_incidents                                                  1   \n",
       "hashedrecord     0xC961940C8A250EDAFFBB5E3D0E48727AC79817AE9EA6...   \n",
       "\n",
       "                                                                 1  \\\n",
       "objectid                                                         2   \n",
       "rowid_                                                       82568   \n",
       "crimedatetime                                  2018-12-31 17:30:00   \n",
       "crimetime                                                 17:30:00   \n",
       "crimecode                                                       6D   \n",
       "location                                             400 E 25TH ST   \n",
       "description                                      LARCENY FROM AUTO   \n",
       "inside_outside                                                   O   \n",
       "weapon                                                         NaN   \n",
       "post                                                         513.0   \n",
       "district                                                  NORTHERN   \n",
       "neighborhood                                               HARWOOD   \n",
       "latitude                                                   39.3181   \n",
       "longitude                                                  -76.611   \n",
       "geolocation                                      (39.3181,-76.611)   \n",
       "premise                                       STREET                 \n",
       "vriname                                                        NaN   \n",
       "total_incidents                                                  1   \n",
       "hashedrecord     0x46FADA38EAC4E24AA9CCD81259651137A8073440F5F2...   \n",
       "\n",
       "                                                                 2  \n",
       "objectid                                                         3  \n",
       "rowid_                                                       82569  \n",
       "crimedatetime                                  2018-12-31 11:10:00  \n",
       "crimetime                                                 11:10:00  \n",
       "crimecode                                                       4E  \n",
       "location                                           4200 FAIRFAX RD  \n",
       "description                                         COMMON ASSAULT  \n",
       "inside_outside                                                   I  \n",
       "weapon                                                         NaN  \n",
       "post                                                         624.0  \n",
       "district                                                 NORTHWEST  \n",
       "neighborhood                                      WEST FOREST PARK  \n",
       "latitude                                                   39.3204  \n",
       "longitude                                                 -76.6877  \n",
       "geolocation                                     (39.3204,-76.6877)  \n",
       "premise                                       APT/CONDO - OCCUPIED  \n",
       "vriname                                                        NaN  \n",
       "total_incidents                                                  1  \n",
       "hashedrecord     0xFE7A5EDB382D00C6265CB48762D75AB7D2BC374871E8...  "
      ]
     },
     "execution_count": 11,
     "metadata": {},
     "output_type": "execute_result"
    }
   ],
   "source": [
    "df.head(3).T"
   ]
  },
  {
   "cell_type": "markdown",
   "metadata": {},
   "source": [
    "Hypothesis: There is no significant difference between crimes inside and outsides"
   ]
  },
  {
   "cell_type": "code",
   "execution_count": 12,
   "metadata": {},
   "outputs": [
    {
     "data": {
      "text/plain": [
       "O          40115\n",
       "I          38355\n",
       "Outside     1854\n",
       "Inside       176\n",
       "Name: inside_outside, dtype: int64"
      ]
     },
     "execution_count": 12,
     "metadata": {},
     "output_type": "execute_result"
    }
   ],
   "source": [
    "df['inside_outside'].value_counts()"
   ]
  },
  {
   "cell_type": "code",
   "execution_count": 13,
   "metadata": {},
   "outputs": [],
   "source": [
    "df['inside_outside'] = df['inside_outside'].replace({\n",
    "    'O': 'Outside', \n",
    "    'I':'Inside'\n",
    "})"
   ]
  },
  {
   "cell_type": "code",
   "execution_count": 14,
   "metadata": {},
   "outputs": [
    {
     "data": {
      "text/plain": [
       "Outside    41969\n",
       "Inside     38531\n",
       "Name: inside_outside, dtype: int64"
      ]
     },
     "execution_count": 14,
     "metadata": {},
     "output_type": "execute_result"
    }
   ],
   "source": [
    "df['inside_outside'].value_counts()"
   ]
  },
  {
   "cell_type": "code",
   "execution_count": null,
   "metadata": {},
   "outputs": [],
   "source": []
  },
  {
   "cell_type": "code",
   "execution_count": 15,
   "metadata": {},
   "outputs": [],
   "source": [
    "df['inside'] =  [1 if i=='Inside' else 0 for i in df['inside_outside']]\n",
    "df['outside'] = [1 if i=='Outside' else 0 for i in df['inside_outside']]"
   ]
  },
  {
   "cell_type": "code",
   "execution_count": 16,
   "metadata": {},
   "outputs": [
    {
     "data": {
      "text/html": [
       "<div>\n",
       "<style scoped>\n",
       "    .dataframe tbody tr th:only-of-type {\n",
       "        vertical-align: middle;\n",
       "    }\n",
       "\n",
       "    .dataframe tbody tr th {\n",
       "        vertical-align: top;\n",
       "    }\n",
       "\n",
       "    .dataframe thead th {\n",
       "        text-align: right;\n",
       "    }\n",
       "</style>\n",
       "<table border=\"1\" class=\"dataframe\">\n",
       "  <thead>\n",
       "    <tr style=\"text-align: right;\">\n",
       "      <th></th>\n",
       "      <th>objectid</th>\n",
       "      <th>rowid_</th>\n",
       "      <th>crimedatetime</th>\n",
       "      <th>crimetime</th>\n",
       "      <th>crimecode</th>\n",
       "      <th>location</th>\n",
       "      <th>description</th>\n",
       "      <th>inside_outside</th>\n",
       "      <th>weapon</th>\n",
       "      <th>post</th>\n",
       "      <th>...</th>\n",
       "      <th>neighborhood</th>\n",
       "      <th>latitude</th>\n",
       "      <th>longitude</th>\n",
       "      <th>geolocation</th>\n",
       "      <th>premise</th>\n",
       "      <th>vriname</th>\n",
       "      <th>total_incidents</th>\n",
       "      <th>hashedrecord</th>\n",
       "      <th>inside</th>\n",
       "      <th>outside</th>\n",
       "    </tr>\n",
       "  </thead>\n",
       "  <tbody>\n",
       "    <tr>\n",
       "      <th>0</th>\n",
       "      <td>1</td>\n",
       "      <td>82567</td>\n",
       "      <td>2018-12-31 04:36:00</td>\n",
       "      <td>4:36:00</td>\n",
       "      <td>6G</td>\n",
       "      <td>400 W LEXINGTON ST</td>\n",
       "      <td>LARCENY</td>\n",
       "      <td>Inside</td>\n",
       "      <td>NaN</td>\n",
       "      <td>114.0</td>\n",
       "      <td>...</td>\n",
       "      <td>DOWNTOWN</td>\n",
       "      <td>39.2916</td>\n",
       "      <td>-76.6211</td>\n",
       "      <td>(39.2916,-76.6211)</td>\n",
       "      <td>SPECIALTY STORE</td>\n",
       "      <td>NaN</td>\n",
       "      <td>1</td>\n",
       "      <td>0xC961940C8A250EDAFFBB5E3D0E48727AC79817AE9EA6...</td>\n",
       "      <td>1</td>\n",
       "      <td>0</td>\n",
       "    </tr>\n",
       "    <tr>\n",
       "      <th>1</th>\n",
       "      <td>2</td>\n",
       "      <td>82568</td>\n",
       "      <td>2018-12-31 17:30:00</td>\n",
       "      <td>17:30:00</td>\n",
       "      <td>6D</td>\n",
       "      <td>400 E 25TH ST</td>\n",
       "      <td>LARCENY FROM AUTO</td>\n",
       "      <td>Outside</td>\n",
       "      <td>NaN</td>\n",
       "      <td>513.0</td>\n",
       "      <td>...</td>\n",
       "      <td>HARWOOD</td>\n",
       "      <td>39.3181</td>\n",
       "      <td>-76.6110</td>\n",
       "      <td>(39.3181,-76.611)</td>\n",
       "      <td>STREET</td>\n",
       "      <td>NaN</td>\n",
       "      <td>1</td>\n",
       "      <td>0x46FADA38EAC4E24AA9CCD81259651137A8073440F5F2...</td>\n",
       "      <td>0</td>\n",
       "      <td>1</td>\n",
       "    </tr>\n",
       "    <tr>\n",
       "      <th>2</th>\n",
       "      <td>3</td>\n",
       "      <td>82569</td>\n",
       "      <td>2018-12-31 11:10:00</td>\n",
       "      <td>11:10:00</td>\n",
       "      <td>4E</td>\n",
       "      <td>4200 FAIRFAX RD</td>\n",
       "      <td>COMMON ASSAULT</td>\n",
       "      <td>Inside</td>\n",
       "      <td>NaN</td>\n",
       "      <td>624.0</td>\n",
       "      <td>...</td>\n",
       "      <td>WEST FOREST PARK</td>\n",
       "      <td>39.3204</td>\n",
       "      <td>-76.6877</td>\n",
       "      <td>(39.3204,-76.6877)</td>\n",
       "      <td>APT/CONDO - OCCUPIED</td>\n",
       "      <td>NaN</td>\n",
       "      <td>1</td>\n",
       "      <td>0xFE7A5EDB382D00C6265CB48762D75AB7D2BC374871E8...</td>\n",
       "      <td>1</td>\n",
       "      <td>0</td>\n",
       "    </tr>\n",
       "    <tr>\n",
       "      <th>3</th>\n",
       "      <td>4</td>\n",
       "      <td>82570</td>\n",
       "      <td>2018-12-31 19:45:00</td>\n",
       "      <td>19:45:00</td>\n",
       "      <td>4E</td>\n",
       "      <td>6500 SAINT HELENA AVE</td>\n",
       "      <td>COMMON ASSAULT</td>\n",
       "      <td>Inside</td>\n",
       "      <td>NaN</td>\n",
       "      <td>234.0</td>\n",
       "      <td>...</td>\n",
       "      <td>SAINT HELENA</td>\n",
       "      <td>39.2600</td>\n",
       "      <td>-76.5311</td>\n",
       "      <td>(39.26,-76.5311)</td>\n",
       "      <td>ROW/TOWNHOUSE-OCC</td>\n",
       "      <td>NaN</td>\n",
       "      <td>1</td>\n",
       "      <td>0xD60C2FB5283D72C29328A7DF528251D4B0F3EF0D9474...</td>\n",
       "      <td>1</td>\n",
       "      <td>0</td>\n",
       "    </tr>\n",
       "    <tr>\n",
       "      <th>4</th>\n",
       "      <td>5</td>\n",
       "      <td>82571</td>\n",
       "      <td>2018-12-31 22:43:00</td>\n",
       "      <td>22:43:00</td>\n",
       "      <td>4A</td>\n",
       "      <td>2400 W BELVEDERE AVE</td>\n",
       "      <td>AGG. ASSAULT</td>\n",
       "      <td>Inside</td>\n",
       "      <td>FIREARM</td>\n",
       "      <td>532.0</td>\n",
       "      <td>...</td>\n",
       "      <td>LEVINDALE</td>\n",
       "      <td>39.3545</td>\n",
       "      <td>-76.6623</td>\n",
       "      <td>(39.3545,-76.6623)</td>\n",
       "      <td>HOSP/NURS. HOME</td>\n",
       "      <td>NaN</td>\n",
       "      <td>1</td>\n",
       "      <td>0x3D27E5CF73522B733BA7EA512013FE1D8BE621801CC8...</td>\n",
       "      <td>1</td>\n",
       "      <td>0</td>\n",
       "    </tr>\n",
       "  </tbody>\n",
       "</table>\n",
       "<p>5 rows × 21 columns</p>\n",
       "</div>"
      ],
      "text/plain": [
       "   objectid  rowid_       crimedatetime crimetime crimecode  \\\n",
       "0         1   82567 2018-12-31 04:36:00   4:36:00        6G   \n",
       "1         2   82568 2018-12-31 17:30:00  17:30:00        6D   \n",
       "2         3   82569 2018-12-31 11:10:00  11:10:00        4E   \n",
       "3         4   82570 2018-12-31 19:45:00  19:45:00        4E   \n",
       "4         5   82571 2018-12-31 22:43:00  22:43:00        4A   \n",
       "\n",
       "                location        description inside_outside   weapon   post  \\\n",
       "0     400 W LEXINGTON ST            LARCENY         Inside      NaN  114.0   \n",
       "1          400 E 25TH ST  LARCENY FROM AUTO        Outside      NaN  513.0   \n",
       "2        4200 FAIRFAX RD     COMMON ASSAULT         Inside      NaN  624.0   \n",
       "3  6500 SAINT HELENA AVE     COMMON ASSAULT         Inside      NaN  234.0   \n",
       "4   2400 W BELVEDERE AVE       AGG. ASSAULT         Inside  FIREARM  532.0   \n",
       "\n",
       "   ...      neighborhood latitude  longitude         geolocation  \\\n",
       "0  ...          DOWNTOWN  39.2916   -76.6211  (39.2916,-76.6211)   \n",
       "1  ...           HARWOOD  39.3181   -76.6110   (39.3181,-76.611)   \n",
       "2  ...  WEST FOREST PARK  39.3204   -76.6877  (39.3204,-76.6877)   \n",
       "3  ...      SAINT HELENA  39.2600   -76.5311    (39.26,-76.5311)   \n",
       "4  ...         LEVINDALE  39.3545   -76.6623  (39.3545,-76.6623)   \n",
       "\n",
       "                premise vriname total_incidents  \\\n",
       "0  SPECIALTY STORE          NaN               1   \n",
       "1  STREET                   NaN               1   \n",
       "2  APT/CONDO - OCCUPIED     NaN               1   \n",
       "3     ROW/TOWNHOUSE-OCC     NaN               1   \n",
       "4       HOSP/NURS. HOME     NaN               1   \n",
       "\n",
       "                                        hashedrecord inside  outside  \n",
       "0  0xC961940C8A250EDAFFBB5E3D0E48727AC79817AE9EA6...      1        0  \n",
       "1  0x46FADA38EAC4E24AA9CCD81259651137A8073440F5F2...      0        1  \n",
       "2  0xFE7A5EDB382D00C6265CB48762D75AB7D2BC374871E8...      1        0  \n",
       "3  0xD60C2FB5283D72C29328A7DF528251D4B0F3EF0D9474...      1        0  \n",
       "4  0x3D27E5CF73522B733BA7EA512013FE1D8BE621801CC8...      1        0  \n",
       "\n",
       "[5 rows x 21 columns]"
      ]
     },
     "execution_count": 16,
     "metadata": {},
     "output_type": "execute_result"
    }
   ],
   "source": [
    "df.head()"
   ]
  },
  {
   "cell_type": "code",
   "execution_count": 17,
   "metadata": {},
   "outputs": [
    {
     "data": {
      "text/html": [
       "<div>\n",
       "<style scoped>\n",
       "    .dataframe tbody tr th:only-of-type {\n",
       "        vertical-align: middle;\n",
       "    }\n",
       "\n",
       "    .dataframe tbody tr th {\n",
       "        vertical-align: top;\n",
       "    }\n",
       "\n",
       "    .dataframe thead th {\n",
       "        text-align: right;\n",
       "    }\n",
       "</style>\n",
       "<table border=\"1\" class=\"dataframe\">\n",
       "  <thead>\n",
       "    <tr style=\"text-align: right;\">\n",
       "      <th></th>\n",
       "      <th>inside</th>\n",
       "      <th>outside</th>\n",
       "    </tr>\n",
       "    <tr>\n",
       "      <th>crimedatetime</th>\n",
       "      <th></th>\n",
       "      <th></th>\n",
       "    </tr>\n",
       "  </thead>\n",
       "  <tbody>\n",
       "    <tr>\n",
       "      <th>2017-01-01</th>\n",
       "      <td>66</td>\n",
       "      <td>62</td>\n",
       "    </tr>\n",
       "    <tr>\n",
       "      <th>2017-01-02</th>\n",
       "      <td>51</td>\n",
       "      <td>67</td>\n",
       "    </tr>\n",
       "    <tr>\n",
       "      <th>2017-01-03</th>\n",
       "      <td>40</td>\n",
       "      <td>38</td>\n",
       "    </tr>\n",
       "    <tr>\n",
       "      <th>2017-01-04</th>\n",
       "      <td>19</td>\n",
       "      <td>15</td>\n",
       "    </tr>\n",
       "    <tr>\n",
       "      <th>2017-01-05</th>\n",
       "      <td>17</td>\n",
       "      <td>21</td>\n",
       "    </tr>\n",
       "    <tr>\n",
       "      <th>...</th>\n",
       "      <td>...</td>\n",
       "      <td>...</td>\n",
       "    </tr>\n",
       "    <tr>\n",
       "      <th>2018-12-27</th>\n",
       "      <td>44</td>\n",
       "      <td>57</td>\n",
       "    </tr>\n",
       "    <tr>\n",
       "      <th>2018-12-28</th>\n",
       "      <td>57</td>\n",
       "      <td>65</td>\n",
       "    </tr>\n",
       "    <tr>\n",
       "      <th>2018-12-29</th>\n",
       "      <td>47</td>\n",
       "      <td>62</td>\n",
       "    </tr>\n",
       "    <tr>\n",
       "      <th>2018-12-30</th>\n",
       "      <td>48</td>\n",
       "      <td>59</td>\n",
       "    </tr>\n",
       "    <tr>\n",
       "      <th>2018-12-31</th>\n",
       "      <td>50</td>\n",
       "      <td>74</td>\n",
       "    </tr>\n",
       "  </tbody>\n",
       "</table>\n",
       "<p>730 rows × 2 columns</p>\n",
       "</div>"
      ],
      "text/plain": [
       "               inside  outside\n",
       "crimedatetime                 \n",
       "2017-01-01         66       62\n",
       "2017-01-02         51       67\n",
       "2017-01-03         40       38\n",
       "2017-01-04         19       15\n",
       "2017-01-05         17       21\n",
       "...               ...      ...\n",
       "2018-12-27         44       57\n",
       "2018-12-28         57       65\n",
       "2018-12-29         47       62\n",
       "2018-12-30         48       59\n",
       "2018-12-31         50       74\n",
       "\n",
       "[730 rows x 2 columns]"
      ]
     },
     "execution_count": 17,
     "metadata": {},
     "output_type": "execute_result"
    }
   ],
   "source": [
    "df_io = df[['inside', 'outside']].groupby(df['crimedatetime'].dt.date).sum() # this may be count if you are counting\n",
    "df_io"
   ]
  },
  {
   "cell_type": "code",
   "execution_count": 18,
   "metadata": {},
   "outputs": [
    {
     "data": {
      "text/plain": [
       "Ttest_indResult(statistic=-6.703280799283819, pvalue=2.9271019609461777e-11)"
      ]
     },
     "execution_count": 18,
     "metadata": {},
     "output_type": "execute_result"
    }
   ],
   "source": [
    "inside = df_io['inside']\n",
    "outside = df_io['outside']  \n",
    "ttest_ind(inside, outside , equal_var=False)"
   ]
  },
  {
   "cell_type": "markdown",
   "metadata": {},
   "source": [
    "pvalue is less than 0.05"
   ]
  },
  {
   "cell_type": "markdown",
   "metadata": {},
   "source": [
    "Let's do another example.\n",
    "\n",
    "Null hypothesis: There is no significant difference between Hampden & Canton neighborhood in terms of weapon used crimes."
   ]
  },
  {
   "cell_type": "code",
   "execution_count": 19,
   "metadata": {},
   "outputs": [
    {
     "data": {
      "text/plain": [
       "FIREARM    11006\n",
       "OTHER       6477\n",
       "KNIFE       3346\n",
       "HANDS       1336\n",
       "FIRE         391\n",
       "Name: weapon, dtype: int64"
      ]
     },
     "execution_count": 19,
     "metadata": {},
     "output_type": "execute_result"
    }
   ],
   "source": [
    "df['weapon'].value_counts()"
   ]
  },
  {
   "cell_type": "code",
   "execution_count": 20,
   "metadata": {},
   "outputs": [],
   "source": [
    "df_weapon = df[df['weapon'].isna() == False]"
   ]
  },
  {
   "cell_type": "code",
   "execution_count": 21,
   "metadata": {},
   "outputs": [],
   "source": [
    "hampden = df_weapon[ df_weapon['neighborhood'] == 'HAMPDEN' ]\n",
    "canton = df_weapon[ df_weapon['neighborhood'] == 'CANTON' ]"
   ]
  },
  {
   "cell_type": "code",
   "execution_count": 22,
   "metadata": {},
   "outputs": [
    {
     "data": {
      "text/plain": [
       "crimedatetime\n",
       "2017-01-01    3\n",
       "2017-01-05    1\n",
       "2017-01-08    3\n",
       "2017-01-24    1\n",
       "2017-01-25    1\n",
       "             ..\n",
       "2018-12-12    1\n",
       "2018-12-15    1\n",
       "2018-12-16    1\n",
       "2018-12-18    4\n",
       "2018-12-30    1\n",
       "Name: weapon, Length: 106, dtype: int64"
      ]
     },
     "execution_count": 22,
     "metadata": {},
     "output_type": "execute_result"
    }
   ],
   "source": [
    "hampden_counts = hampden['weapon'].groupby( hampden['crimedatetime'].dt.date ).count()\n",
    "hampden_counts"
   ]
  },
  {
   "cell_type": "code",
   "execution_count": 23,
   "metadata": {},
   "outputs": [
    {
     "data": {
      "text/plain": [
       "crimedatetime\n",
       "2017-01-01    4\n",
       "2017-01-02    2\n",
       "2017-01-07    2\n",
       "2017-01-12    1\n",
       "2017-01-13    1\n",
       "             ..\n",
       "2018-12-18    1\n",
       "2018-12-26    1\n",
       "2018-12-29    1\n",
       "2018-12-30    2\n",
       "2018-12-31    1\n",
       "Name: weapon, Length: 133, dtype: int64"
      ]
     },
     "execution_count": 23,
     "metadata": {},
     "output_type": "execute_result"
    }
   ],
   "source": [
    "canton_counts = canton['weapon'].groupby( canton['crimedatetime'].dt.date ).count()\n",
    "canton_counts"
   ]
  },
  {
   "cell_type": "code",
   "execution_count": 24,
   "metadata": {},
   "outputs": [
    {
     "data": {
      "text/plain": [
       "Ttest_indResult(statistic=0.1379880975095151, pvalue=0.8904029753837779)"
      ]
     },
     "execution_count": 24,
     "metadata": {},
     "output_type": "execute_result"
    }
   ],
   "source": [
    "ttest_ind(hampden_counts, canton_counts, equal_var=False)"
   ]
  },
  {
   "cell_type": "code",
   "execution_count": 25,
   "metadata": {},
   "outputs": [],
   "source": [
    "from random import randint"
   ]
  },
  {
   "cell_type": "code",
   "execution_count": 26,
   "metadata": {},
   "outputs": [
    {
     "data": {
      "text/html": [
       "<div>\n",
       "<style scoped>\n",
       "    .dataframe tbody tr th:only-of-type {\n",
       "        vertical-align: middle;\n",
       "    }\n",
       "\n",
       "    .dataframe tbody tr th {\n",
       "        vertical-align: top;\n",
       "    }\n",
       "\n",
       "    .dataframe thead th {\n",
       "        text-align: right;\n",
       "    }\n",
       "</style>\n",
       "<table border=\"1\" class=\"dataframe\">\n",
       "  <thead>\n",
       "    <tr style=\"text-align: right;\">\n",
       "      <th></th>\n",
       "      <th>a</th>\n",
       "      <th>b</th>\n",
       "    </tr>\n",
       "  </thead>\n",
       "  <tbody>\n",
       "    <tr>\n",
       "      <th>0</th>\n",
       "      <td>-9.246114</td>\n",
       "      <td>10.720867</td>\n",
       "    </tr>\n",
       "    <tr>\n",
       "      <th>1</th>\n",
       "      <td>-6.220923</td>\n",
       "      <td>0.630518</td>\n",
       "    </tr>\n",
       "    <tr>\n",
       "      <th>2</th>\n",
       "      <td>7.596868</td>\n",
       "      <td>2.832169</td>\n",
       "    </tr>\n",
       "    <tr>\n",
       "      <th>3</th>\n",
       "      <td>14.610219</td>\n",
       "      <td>-2.324817</td>\n",
       "    </tr>\n",
       "    <tr>\n",
       "      <th>4</th>\n",
       "      <td>16.906188</td>\n",
       "      <td>-2.036445</td>\n",
       "    </tr>\n",
       "    <tr>\n",
       "      <th>...</th>\n",
       "      <td>...</td>\n",
       "      <td>...</td>\n",
       "    </tr>\n",
       "    <tr>\n",
       "      <th>495</th>\n",
       "      <td>-9.889488</td>\n",
       "      <td>1.971024</td>\n",
       "    </tr>\n",
       "    <tr>\n",
       "      <th>496</th>\n",
       "      <td>7.311259</td>\n",
       "      <td>17.185562</td>\n",
       "    </tr>\n",
       "    <tr>\n",
       "      <th>497</th>\n",
       "      <td>19.608703</td>\n",
       "      <td>2.732120</td>\n",
       "    </tr>\n",
       "    <tr>\n",
       "      <th>498</th>\n",
       "      <td>-2.110124</td>\n",
       "      <td>9.139903</td>\n",
       "    </tr>\n",
       "    <tr>\n",
       "      <th>499</th>\n",
       "      <td>18.952171</td>\n",
       "      <td>28.061172</td>\n",
       "    </tr>\n",
       "  </tbody>\n",
       "</table>\n",
       "<p>500 rows × 2 columns</p>\n",
       "</div>"
      ],
      "text/plain": [
       "             a          b\n",
       "0    -9.246114  10.720867\n",
       "1    -6.220923   0.630518\n",
       "2     7.596868   2.832169\n",
       "3    14.610219  -2.324817\n",
       "4    16.906188  -2.036445\n",
       "..         ...        ...\n",
       "495  -9.889488   1.971024\n",
       "496   7.311259  17.185562\n",
       "497  19.608703   2.732120\n",
       "498  -2.110124   9.139903\n",
       "499  18.952171  28.061172\n",
       "\n",
       "[500 rows x 2 columns]"
      ]
     },
     "execution_count": 26,
     "metadata": {},
     "output_type": "execute_result"
    }
   ],
   "source": [
    "df = pd.DataFrame()\n",
    "df['a'] = norm.rvs(loc=5,scale=10,size=500) #  [x for x in range(20)]\n",
    "df['b'] = norm.rvs(loc=5,scale=10,size=500)\n",
    "\n",
    "df"
   ]
  },
  {
   "cell_type": "code",
   "execution_count": 27,
   "metadata": {},
   "outputs": [
    {
     "data": {
      "text/html": [
       "<div>\n",
       "<style scoped>\n",
       "    .dataframe tbody tr th:only-of-type {\n",
       "        vertical-align: middle;\n",
       "    }\n",
       "\n",
       "    .dataframe tbody tr th {\n",
       "        vertical-align: top;\n",
       "    }\n",
       "\n",
       "    .dataframe thead th {\n",
       "        text-align: right;\n",
       "    }\n",
       "</style>\n",
       "<table border=\"1\" class=\"dataframe\">\n",
       "  <thead>\n",
       "    <tr style=\"text-align: right;\">\n",
       "      <th></th>\n",
       "      <th>a</th>\n",
       "      <th>b</th>\n",
       "    </tr>\n",
       "  </thead>\n",
       "  <tbody>\n",
       "    <tr>\n",
       "      <th>a</th>\n",
       "      <td>1.000000</td>\n",
       "      <td>0.078135</td>\n",
       "    </tr>\n",
       "    <tr>\n",
       "      <th>b</th>\n",
       "      <td>0.078135</td>\n",
       "      <td>1.000000</td>\n",
       "    </tr>\n",
       "  </tbody>\n",
       "</table>\n",
       "</div>"
      ],
      "text/plain": [
       "          a         b\n",
       "a  1.000000  0.078135\n",
       "b  0.078135  1.000000"
      ]
     },
     "execution_count": 27,
     "metadata": {},
     "output_type": "execute_result"
    }
   ],
   "source": [
    "df[['a','b']].corr()"
   ]
  },
  {
   "cell_type": "code",
   "execution_count": 32,
   "metadata": {},
   "outputs": [
    {
     "data": {
      "text/html": [
       "<div>\n",
       "<style scoped>\n",
       "    .dataframe tbody tr th:only-of-type {\n",
       "        vertical-align: middle;\n",
       "    }\n",
       "\n",
       "    .dataframe tbody tr th {\n",
       "        vertical-align: top;\n",
       "    }\n",
       "\n",
       "    .dataframe thead th {\n",
       "        text-align: right;\n",
       "    }\n",
       "</style>\n",
       "<table border=\"1\" class=\"dataframe\">\n",
       "  <thead>\n",
       "    <tr style=\"text-align: right;\">\n",
       "      <th></th>\n",
       "      <th>a</th>\n",
       "      <th>b</th>\n",
       "    </tr>\n",
       "  </thead>\n",
       "  <tbody>\n",
       "    <tr>\n",
       "      <th>0</th>\n",
       "      <td>0</td>\n",
       "      <td>1</td>\n",
       "    </tr>\n",
       "    <tr>\n",
       "      <th>1</th>\n",
       "      <td>1</td>\n",
       "      <td>-2</td>\n",
       "    </tr>\n",
       "    <tr>\n",
       "      <th>2</th>\n",
       "      <td>2</td>\n",
       "      <td>-2</td>\n",
       "    </tr>\n",
       "    <tr>\n",
       "      <th>3</th>\n",
       "      <td>3</td>\n",
       "      <td>-1</td>\n",
       "    </tr>\n",
       "    <tr>\n",
       "      <th>4</th>\n",
       "      <td>4</td>\n",
       "      <td>-1</td>\n",
       "    </tr>\n",
       "    <tr>\n",
       "      <th>5</th>\n",
       "      <td>5</td>\n",
       "      <td>-2</td>\n",
       "    </tr>\n",
       "    <tr>\n",
       "      <th>6</th>\n",
       "      <td>6</td>\n",
       "      <td>-8</td>\n",
       "    </tr>\n",
       "    <tr>\n",
       "      <th>7</th>\n",
       "      <td>7</td>\n",
       "      <td>-6</td>\n",
       "    </tr>\n",
       "    <tr>\n",
       "      <th>8</th>\n",
       "      <td>8</td>\n",
       "      <td>-7</td>\n",
       "    </tr>\n",
       "    <tr>\n",
       "      <th>9</th>\n",
       "      <td>9</td>\n",
       "      <td>-8</td>\n",
       "    </tr>\n",
       "    <tr>\n",
       "      <th>10</th>\n",
       "      <td>10</td>\n",
       "      <td>-9</td>\n",
       "    </tr>\n",
       "    <tr>\n",
       "      <th>11</th>\n",
       "      <td>11</td>\n",
       "      <td>-9</td>\n",
       "    </tr>\n",
       "    <tr>\n",
       "      <th>12</th>\n",
       "      <td>12</td>\n",
       "      <td>-10</td>\n",
       "    </tr>\n",
       "    <tr>\n",
       "      <th>13</th>\n",
       "      <td>13</td>\n",
       "      <td>-15</td>\n",
       "    </tr>\n",
       "    <tr>\n",
       "      <th>14</th>\n",
       "      <td>14</td>\n",
       "      <td>-14</td>\n",
       "    </tr>\n",
       "    <tr>\n",
       "      <th>15</th>\n",
       "      <td>15</td>\n",
       "      <td>-12</td>\n",
       "    </tr>\n",
       "    <tr>\n",
       "      <th>16</th>\n",
       "      <td>16</td>\n",
       "      <td>-15</td>\n",
       "    </tr>\n",
       "    <tr>\n",
       "      <th>17</th>\n",
       "      <td>17</td>\n",
       "      <td>-18</td>\n",
       "    </tr>\n",
       "    <tr>\n",
       "      <th>18</th>\n",
       "      <td>18</td>\n",
       "      <td>-21</td>\n",
       "    </tr>\n",
       "    <tr>\n",
       "      <th>19</th>\n",
       "      <td>19</td>\n",
       "      <td>-20</td>\n",
       "    </tr>\n",
       "  </tbody>\n",
       "</table>\n",
       "</div>"
      ],
      "text/plain": [
       "     a   b\n",
       "0    0   1\n",
       "1    1  -2\n",
       "2    2  -2\n",
       "3    3  -1\n",
       "4    4  -1\n",
       "5    5  -2\n",
       "6    6  -8\n",
       "7    7  -6\n",
       "8    8  -7\n",
       "9    9  -8\n",
       "10  10  -9\n",
       "11  11  -9\n",
       "12  12 -10\n",
       "13  13 -15\n",
       "14  14 -14\n",
       "15  15 -12\n",
       "16  16 -15\n",
       "17  17 -18\n",
       "18  18 -21\n",
       "19  19 -20"
      ]
     },
     "execution_count": 32,
     "metadata": {},
     "output_type": "execute_result"
    }
   ],
   "source": [
    "df = pd.DataFrame()\n",
    "df['a'] =  [x for x in range(20)]\n",
    "df['b'] = [-(x + randint(-3, 3)) for x in range(20)]\n",
    "df"
   ]
  },
  {
   "cell_type": "code",
   "execution_count": 33,
   "metadata": {},
   "outputs": [
    {
     "data": {
      "text/html": [
       "<div>\n",
       "<style scoped>\n",
       "    .dataframe tbody tr th:only-of-type {\n",
       "        vertical-align: middle;\n",
       "    }\n",
       "\n",
       "    .dataframe tbody tr th {\n",
       "        vertical-align: top;\n",
       "    }\n",
       "\n",
       "    .dataframe thead th {\n",
       "        text-align: right;\n",
       "    }\n",
       "</style>\n",
       "<table border=\"1\" class=\"dataframe\">\n",
       "  <thead>\n",
       "    <tr style=\"text-align: right;\">\n",
       "      <th></th>\n",
       "      <th>a</th>\n",
       "      <th>b</th>\n",
       "    </tr>\n",
       "  </thead>\n",
       "  <tbody>\n",
       "    <tr>\n",
       "      <th>a</th>\n",
       "      <td>1.000000</td>\n",
       "      <td>-0.967669</td>\n",
       "    </tr>\n",
       "    <tr>\n",
       "      <th>b</th>\n",
       "      <td>-0.967669</td>\n",
       "      <td>1.000000</td>\n",
       "    </tr>\n",
       "  </tbody>\n",
       "</table>\n",
       "</div>"
      ],
      "text/plain": [
       "          a         b\n",
       "a  1.000000 -0.967669\n",
       "b -0.967669  1.000000"
      ]
     },
     "execution_count": 33,
     "metadata": {},
     "output_type": "execute_result"
    }
   ],
   "source": [
    "df.corr()"
   ]
  },
  {
   "cell_type": "code",
   "execution_count": null,
   "metadata": {},
   "outputs": [],
   "source": []
  }
 ],
 "metadata": {
  "kernelspec": {
   "display_name": "Python 3",
   "language": "python",
   "name": "python3"
  },
  "language_info": {
   "codemirror_mode": {
    "name": "ipython",
    "version": 3
   },
   "file_extension": ".py",
   "mimetype": "text/x-python",
   "name": "python",
   "nbconvert_exporter": "python",
   "pygments_lexer": "ipython3",
   "version": "3.8.8"
  },
  "toc": {
   "base_numbering": 1,
   "nav_menu": {},
   "number_sections": true,
   "sideBar": true,
   "skip_h1_title": false,
   "title_cell": "Table of Contents",
   "title_sidebar": "Contents",
   "toc_cell": false,
   "toc_position": {},
   "toc_section_display": true,
   "toc_window_display": false
  },
  "varInspector": {
   "cols": {
    "lenName": 16,
    "lenType": 16,
    "lenVar": 40
   },
   "kernels_config": {
    "python": {
     "delete_cmd_postfix": "",
     "delete_cmd_prefix": "del ",
     "library": "var_list.py",
     "varRefreshCmd": "print(var_dic_list())"
    },
    "r": {
     "delete_cmd_postfix": ") ",
     "delete_cmd_prefix": "rm(",
     "library": "var_list.r",
     "varRefreshCmd": "cat(var_dic_list()) "
    }
   },
   "types_to_exclude": [
    "module",
    "function",
    "builtin_function_or_method",
    "instance",
    "_Feature"
   ],
   "window_display": false
  }
 },
 "nbformat": 4,
 "nbformat_minor": 2
}
