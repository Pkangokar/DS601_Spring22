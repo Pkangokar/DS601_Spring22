{
 "cells": [
  {
   "cell_type": "code",
   "execution_count": 1,
   "id": "2258fe70",
   "metadata": {},
   "outputs": [],
   "source": [
    "import requests\n",
    "import json"
   ]
  },
  {
   "cell_type": "code",
   "execution_count": 5,
   "id": "9ed35086",
   "metadata": {},
   "outputs": [],
   "source": [
    "sentence = \"it's an awesome movie but it was boring toward the end and I left early\""
   ]
  },
  {
   "cell_type": "code",
   "execution_count": 6,
   "id": "cd33b8b3",
   "metadata": {},
   "outputs": [],
   "source": [
    "ip = '54.146.197.85'\n",
    "url = f'http://{ip}/?sentence={sentence}'\n"
   ]
  },
  {
   "cell_type": "code",
   "execution_count": 7,
   "id": "338124c3",
   "metadata": {},
   "outputs": [
    {
     "data": {
      "text/plain": [
       "{'sentence': \"it's an awesome movie but it was boring toward the end and I left early\",\n",
       " 'sentiment': 'negative'}"
      ]
     },
     "execution_count": 7,
     "metadata": {},
     "output_type": "execute_result"
    }
   ],
   "source": [
    "json.loads(requests.get(url ).text)"
   ]
  },
  {
   "cell_type": "code",
   "execution_count": null,
   "id": "afb203fa",
   "metadata": {},
   "outputs": [],
   "source": []
  }
 ],
 "metadata": {
  "kernelspec": {
   "display_name": "Python 3",
   "language": "python",
   "name": "python3"
  },
  "language_info": {
   "codemirror_mode": {
    "name": "ipython",
    "version": 3
   },
   "file_extension": ".py",
   "mimetype": "text/x-python",
   "name": "python",
   "nbconvert_exporter": "python",
   "pygments_lexer": "ipython3",
   "version": "3.8.8"
  },
  "toc": {
   "base_numbering": 1,
   "nav_menu": {},
   "number_sections": true,
   "sideBar": true,
   "skip_h1_title": false,
   "title_cell": "Table of Contents",
   "title_sidebar": "Contents",
   "toc_cell": false,
   "toc_position": {},
   "toc_section_display": true,
   "toc_window_display": false
  }
 },
 "nbformat": 4,
 "nbformat_minor": 5
}
