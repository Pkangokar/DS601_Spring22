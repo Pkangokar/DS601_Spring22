{
 "cells": [
  {
   "cell_type": "code",
   "execution_count": 1,
   "id": "4eb950bb",
   "metadata": {},
   "outputs": [],
   "source": [
    "# !pip install flask_cors\n",
    "# !pip install flask\n",
    "# !pip install waitress"
   ]
  },
  {
   "cell_type": "code",
   "execution_count": 2,
   "id": "2e093c24",
   "metadata": {},
   "outputs": [],
   "source": [
    "import pickle\n",
    "from sklearn.feature_extraction.text import TfidfVectorizer\n",
    "from sklearn.linear_model import LogisticRegression\n",
    "\n",
    "from flask import Flask\n",
    "from flask import jsonify, request\n",
    "from flask_cors import CORS"
   ]
  },
  {
   "cell_type": "code",
   "execution_count": 9,
   "id": "ba5c6009",
   "metadata": {},
   "outputs": [],
   "source": [
    "def load_model_file(filename):\n",
    "    obj = pickle.load(open(filename, 'rb'))\n",
    "    print(obj)\n",
    "    \n",
    "    model = obj['model']\n",
    "    vectorizer = obj['vectorizer']\n",
    "    \n",
    "    return model, vectorizer\n",
    "\n",
    "def predict(sentences, model, vectorizer):\n",
    "    sentences = sentences if isinstance(sentences, list) else [sentences]\n",
    "    vector = vectorizer.transform(sentences)\n",
    "    return model.predict(vector)"
   ]
  },
  {
   "cell_type": "code",
   "execution_count": 10,
   "id": "00d655c2",
   "metadata": {},
   "outputs": [
    {
     "name": "stdout",
     "output_type": "stream",
     "text": [
      "{'model': LogisticRegression(solver='liblinear'), 'vectorizer': TfidfVectorizer(max_features=3000, stop_words='english')}\n"
     ]
    }
   ],
   "source": [
    "model, vectorizer = load_model_file('movie_model.pkl')"
   ]
  },
  {
   "cell_type": "code",
   "execution_count": 5,
   "id": "2173daaa",
   "metadata": {},
   "outputs": [
    {
     "name": "stdout",
     "output_type": "stream",
     "text": [
      "['positive']\n"
     ]
    }
   ],
   "source": [
    "print(predict('this is a great movie.', model, vectorizer))"
   ]
  },
  {
   "cell_type": "code",
   "execution_count": 6,
   "id": "68906827",
   "metadata": {},
   "outputs": [
    {
     "name": "stdout",
     "output_type": "stream",
     "text": [
      "['negative']\n"
     ]
    }
   ],
   "source": [
    "print(predict('this is a horrible movie.', model, vectorizer))"
   ]
  },
  {
   "cell_type": "code",
   "execution_count": 7,
   "id": "dc8c5135",
   "metadata": {},
   "outputs": [
    {
     "name": "stdout",
     "output_type": "stream",
     "text": [
      " * Serving Flask app \"__main__\" (lazy loading)\n",
      " * Environment: production\n",
      "\u001b[31m   WARNING: This is a development server. Do not use it in a production deployment.\u001b[0m\n",
      "\u001b[2m   Use a production WSGI server instead.\u001b[0m\n",
      " * Debug mode: off\n"
     ]
    },
    {
     "name": "stderr",
     "output_type": "stream",
     "text": [
      " * Running on http://127.0.0.1:5000/ (Press CTRL+C to quit)\n",
      "127.0.0.1 - - [10/May/2022 19:32:53] \"\u001b[37mGET / HTTP/1.1\u001b[0m\" 200 -\n",
      "127.0.0.1 - - [10/May/2022 19:33:11] \"\u001b[37mGET /?sentence=fun%20movie HTTP/1.1\u001b[0m\" 200 -\n",
      "127.0.0.1 - - [10/May/2022 19:33:59] \"\u001b[37mGET /?sentence=movie%20was%20great HTTP/1.1\u001b[0m\" 200 -\n",
      "127.0.0.1 - - [10/May/2022 19:34:22] \"\u001b[37mGET /?sentence=movie%20was%20so%20horrible%20I%20fell%20asleep HTTP/1.1\u001b[0m\" 200 -\n"
     ]
    }
   ],
   "source": [
    "app = Flask(__name__)\n",
    "CORS(app)\n",
    "\n",
    "@app.route('/')\n",
    "def start():\n",
    "    sentence = request.args.get('sentence')\n",
    "\n",
    "    if sentence == None: \n",
    "        return jsonify({})\n",
    "\n",
    "    # print(sentence)\n",
    "    \n",
    "    result = predict(sentence, model, vectorizer)\n",
    "    \n",
    "    # print(result)\n",
    "    return jsonify({\n",
    "        'sentence': sentence,\n",
    "        'sentiment': result[0]\n",
    "    })\n",
    "\n",
    "if __name__ == '__main__':\n",
    "    app.run()"
   ]
  },
  {
   "cell_type": "markdown",
   "id": "257e9007",
   "metadata": {},
   "source": [
    "## For production"
   ]
  },
  {
   "cell_type": "code",
   "execution_count": null,
   "id": "d7c878ea",
   "metadata": {},
   "outputs": [],
   "source": [
    "from flask import Flask\n",
    "from flask import jsonify, request\n",
    "from flask_cors import CORS\n",
    "from waitress import serve\n",
    "\n",
    "app = Flask(__name__)\n",
    "CORS(app)\n",
    "\n",
    "@app.route('/')\n",
    "def start():\n",
    "    sentence = request.args.get('sentence')\n",
    "    \n",
    "    if sentence == None: \n",
    "        return jsonify({})\n",
    "\n",
    "    # print(sentence)\n",
    "    \n",
    "    result = predict(sentence, model, vectorizer)\n",
    "    \n",
    "    # print(result)\n",
    "    return jsonify({\n",
    "        'sentence': sentence,\n",
    "        'sentiment': result[0]\n",
    "    })\n",
    "\n",
    "if __name__ == '__main__':\n",
    "    serve(app, host=\"0.0.0.0\", port=80)"
   ]
  },
  {
   "cell_type": "code",
   "execution_count": 8,
   "id": "bed4d32b",
   "metadata": {},
   "outputs": [
    {
     "name": "stdout",
     "output_type": "stream",
     "text": [
      "IMDB Dataset.csv      movie_model.pkl       setting_up_server.txt\r\n",
      "consuming_api.ipynb   server.ipynb          user-data.txt\r\n",
      "ml_training.ipynb     server.py\r\n"
     ]
    }
   ],
   "source": [
    "!ls"
   ]
  },
  {
   "cell_type": "code",
   "execution_count": null,
   "id": "4b64a421",
   "metadata": {},
   "outputs": [],
   "source": [
    "!aws s3 cp movie_model.pkl s3://com.msarica.ds/movie_model.pkl\n",
    "!aws s3 cp server.py s3://com.msarica.ds/server.py"
   ]
  },
  {
   "cell_type": "code",
   "execution_count": null,
   "id": "817ee5ee",
   "metadata": {},
   "outputs": [],
   "source": []
  }
 ],
 "metadata": {
  "kernelspec": {
   "display_name": "Python 3",
   "language": "python",
   "name": "python3"
  },
  "language_info": {
   "codemirror_mode": {
    "name": "ipython",
    "version": 3
   },
   "file_extension": ".py",
   "mimetype": "text/x-python",
   "name": "python",
   "nbconvert_exporter": "python",
   "pygments_lexer": "ipython3",
   "version": "3.8.8"
  },
  "toc": {
   "base_numbering": 1,
   "nav_menu": {},
   "number_sections": true,
   "sideBar": true,
   "skip_h1_title": false,
   "title_cell": "Table of Contents",
   "title_sidebar": "Contents",
   "toc_cell": false,
   "toc_position": {},
   "toc_section_display": true,
   "toc_window_display": false
  }
 },
 "nbformat": 4,
 "nbformat_minor": 5
}
